{
 "cells": [
  {
   "cell_type": "code",
   "execution_count": 3,
   "id": "4724d132",
   "metadata": {},
   "outputs": [],
   "source": [
    "import pandas as pd\n",
    "import os"
   ]
  },
  {
   "cell_type": "code",
   "execution_count": 4,
   "id": "26c59a93",
   "metadata": {},
   "outputs": [],
   "source": [
    "pathToData = os.path.join(os.getcwd(), \"Data\", \"Production_Crops_Livestock_E_All_Data.csv\")\n",
    "agData = pd.read_csv(pathToData, encoding=\"latin-1\")"
   ]
  },
  {
   "cell_type": "markdown",
   "id": "c168c136",
   "metadata": {},
   "source": [
    "What are all the different types of elements? "
   ]
  },
  {
   "cell_type": "code",
   "execution_count": 7,
   "id": "50550cff",
   "metadata": {},
   "outputs": [
    {
     "data": {
      "text/plain": [
       "array(['Area harvested', 'Yield', 'Production', 'Stocks', 'Laying',\n",
       "       'Producing Animals/Slaughtered', 'Yield/Carcass Weight',\n",
       "       'Milk Animals', 'Prod Popultn'], dtype=object)"
      ]
     },
     "execution_count": 7,
     "metadata": {},
     "output_type": "execute_result"
    }
   ],
   "source": [
    "agData['Element'].unique()"
   ]
  },
  {
   "cell_type": "markdown",
   "id": "d2bf33f9",
   "metadata": {},
   "source": [
    "The production elements are production, stocks, laying, and prod popultn. Look up each in https://www.fao.org/faostat/en/#definitions."
   ]
  },
  {
   "cell_type": "markdown",
   "id": "142486b5",
   "metadata": {},
   "source": [
    "Create a dictionary like {'apples': 'yield', 'beehives': 'stocks', etc.}"
   ]
  },
  {
   "cell_type": "code",
   "execution_count": null,
   "id": "14a73869",
   "metadata": {},
   "outputs": [],
   "source": [
    "productionElements = [\"Production\", \"Stocks\", \"Laying\", \"Prod Popultn\"]\n",
    "\n",
    "def itemToProductionElementDictionary(agDF):\n",
    "    \"\"\"\n",
    "        Create a dictionary mapping each item\n",
    "        to its production element. \n",
    "        Args:\n",
    "            agDF: Agriculture dataframe from FAO\n",
    "        Returns: a dictionary similar to {'Apples': 'Production', 'Beehives': 'Stocks'}\n",
    "    \"\"\"\n",
    "    \n",
    "    dfProdElements = agDF[agDF['Element'].isin(productionElements)]\n",
    "    itemsList = dfProdElements['Item']\n",
    "    elementsList = dfProdElements['Element']\n",
    "    \n",
    "    itemProdElementDict = {}\n",
    "    \n",
    "    for itemElementTuple in zip(itemsList, elementsList):\n",
    "        itemProdElementDict[itemElementTuple[0]] = itemElementTuple[1]\n",
    "    \n",
    "    return itemProdElementDict\n",
    "        "
   ]
  }
 ],
 "metadata": {
  "kernelspec": {
   "display_name": "Python 3 (ipykernel)",
   "language": "python",
   "name": "python3"
  },
  "language_info": {
   "codemirror_mode": {
    "name": "ipython",
    "version": 3
   },
   "file_extension": ".py",
   "mimetype": "text/x-python",
   "name": "python",
   "nbconvert_exporter": "python",
   "pygments_lexer": "ipython3",
   "version": "3.9.5"
  }
 },
 "nbformat": 4,
 "nbformat_minor": 5
}
