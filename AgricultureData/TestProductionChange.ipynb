{
 "cells": [
  {
   "cell_type": "code",
   "execution_count": 7,
   "id": "cc851bcb",
   "metadata": {},
   "outputs": [],
   "source": [
    "import pandas as pd\n",
    "import unittest\n",
    "import numpy as np\n",
    "np.random.seed(1)"
   ]
  },
  {
   "cell_type": "code",
   "execution_count": 9,
   "id": "1938e5b2",
   "metadata": {},
   "outputs": [
    {
     "data": {
      "text/html": [
       "<div>\n",
       "<style scoped>\n",
       "    .dataframe tbody tr th:only-of-type {\n",
       "        vertical-align: middle;\n",
       "    }\n",
       "\n",
       "    .dataframe tbody tr th {\n",
       "        vertical-align: top;\n",
       "    }\n",
       "\n",
       "    .dataframe thead th {\n",
       "        text-align: right;\n",
       "    }\n",
       "</style>\n",
       "<table border=\"1\" class=\"dataframe\">\n",
       "  <thead>\n",
       "    <tr style=\"text-align: right;\">\n",
       "      <th></th>\n",
       "      <th>Area</th>\n",
       "      <th>Item</th>\n",
       "      <th>Element</th>\n",
       "      <th>2019</th>\n",
       "      <th>2020</th>\n",
       "    </tr>\n",
       "  </thead>\n",
       "  <tbody>\n",
       "    <tr>\n",
       "      <th>0</th>\n",
       "      <td>Indonesia</td>\n",
       "      <td>Apples</td>\n",
       "      <td>Yield</td>\n",
       "      <td>19533</td>\n",
       "      <td>34480</td>\n",
       "    </tr>\n",
       "    <tr>\n",
       "      <th>1</th>\n",
       "      <td>Indonesia</td>\n",
       "      <td>Apples</td>\n",
       "      <td>Production</td>\n",
       "      <td>17237</td>\n",
       "      <td>85118</td>\n",
       "    </tr>\n",
       "    <tr>\n",
       "      <th>2</th>\n",
       "      <td>Indonesia</td>\n",
       "      <td>Apples</td>\n",
       "      <td>Area</td>\n",
       "      <td>26203</td>\n",
       "      <td>1944</td>\n",
       "    </tr>\n",
       "    <tr>\n",
       "      <th>3</th>\n",
       "      <td>China</td>\n",
       "      <td>Apples</td>\n",
       "      <td>Yield</td>\n",
       "      <td>44610</td>\n",
       "      <td>9652</td>\n",
       "    </tr>\n",
       "    <tr>\n",
       "      <th>4</th>\n",
       "      <td>China</td>\n",
       "      <td>Apples</td>\n",
       "      <td>Production</td>\n",
       "      <td>51140</td>\n",
       "      <td>35537</td>\n",
       "    </tr>\n",
       "  </tbody>\n",
       "</table>\n",
       "</div>"
      ],
      "text/plain": [
       "        Area    Item     Element   2019   2020\n",
       "0  Indonesia  Apples       Yield  19533  34480\n",
       "1  Indonesia  Apples  Production  17237  85118\n",
       "2  Indonesia  Apples        Area  26203   1944\n",
       "3      China  Apples       Yield  44610   9652\n",
       "4      China  Apples  Production  51140  35537"
      ]
     },
     "execution_count": 9,
     "metadata": {},
     "output_type": "execute_result"
    }
   ],
   "source": [
    "testData = {'Area': (['Indonesia'] * 3 + ['China'] * 3 + ['UK'] * 3) * 3,\n",
    "            'Item': ['Apples'] * 9 + ['Grapes'] * 9 + ['Beehives'] * 9,\n",
    "            'Element': ['Yield', 'Production', 'Area'] * 6 + ['Yield', 'Stocks', 'Count'] * 3,\n",
    "           '2019': np.random.randint(100, 100000, size = 27), '2020': np.random.randint(100, 100000, size = 27)}\n",
    "\n",
    "testDf = pd.DataFrame(testData)\n",
    "testDf.head()"
   ]
  },
  {
   "cell_type": "code",
   "execution_count": 10,
   "id": "d2d7678b",
   "metadata": {},
   "outputs": [],
   "source": [
    "def itemToProductionElementDictionary(agDF):\n",
    "    \"\"\"\n",
    "        Create a dictionary mapping each item\n",
    "        to its production element. \n",
    "        Args:\n",
    "            agDF: Agriculture dataframe from FAO\n",
    "        Returns: a dictionary similar to {'Apples': 'Production', 'Beehives': 'Stocks'}\n",
    "    \"\"\"\n",
    "    \n",
    "    productionElements = [\"Production\", \"Stocks\", \"Laying\", \"Prod Popultn\"]\n",
    "    \n",
    "    dfProdElements = agDF[agDF['Element'].isin(productionElements)]\n",
    "    itemsList = dfProdElements['Item']\n",
    "    elementsList = dfProdElements['Element']\n",
    "    \n",
    "    itemProdElementDict = {}\n",
    "    \n",
    "    for itemElementTuple in zip(itemsList, elementsList):\n",
    "        itemProdElementDict[itemElementTuple[0]] = itemElementTuple[1]\n",
    "    \n",
    "    return itemProdElementDict"
   ]
  },
  {
   "cell_type": "code",
   "execution_count": 17,
   "id": "faaf0e59",
   "metadata": {},
   "outputs": [],
   "source": [
    "class TestItemToProdElement(unittest.TestCase):\n",
    "    def test_itemToProductionElementDictionary(self):\n",
    "        testData = {'Area': (['Indonesia'] * 3 + ['China'] * 3 + ['UK'] * 3) * 3,\n",
    "            'Item': ['Apples'] * 9 + ['Grapes'] * 9 + ['Beehives'] * 9,\n",
    "            'Element': ['Yield', 'Production', 'Area'] * 6 + ['Yield', 'Stocks', 'Count'] * 3,\n",
    "           '2019': np.random.randint(100, 100000, size = 27), '2020': np.random.randint(100, 100000, size = 27)}\n",
    "        testDf = pd.DataFrame(testData)\n",
    "        itemToProdElementDict = itemToProductionElementDictionary(testDf)\n",
    "        expected = {'Apples': 'Production', 'Grapes': 'Production', 'Beehives': 'Stocks'}\n",
    "        self.assertEqual(expected, itemToProdElementDict)"
   ]
  },
  {
   "cell_type": "code",
   "execution_count": 18,
   "id": "b8347231",
   "metadata": {},
   "outputs": [
    {
     "name": "stderr",
     "output_type": "stream",
     "text": [
      "test_itemToProductionElementDictionary (__main__.TestItemToProdElement) ... ok\n",
      "\n",
      "----------------------------------------------------------------------\n",
      "Ran 1 test in 0.037s\n",
      "\n",
      "OK\n"
     ]
    },
    {
     "data": {
      "text/plain": [
       "<unittest.main.TestProgram at 0x1e53857d100>"
      ]
     },
     "execution_count": 18,
     "metadata": {},
     "output_type": "execute_result"
    }
   ],
   "source": [
    "unittest.main(argv=[''], verbosity=2, exit=False)"
   ]
  },
  {
   "cell_type": "code",
   "execution_count": null,
   "id": "024602a4",
   "metadata": {},
   "outputs": [],
   "source": []
  }
 ],
 "metadata": {
  "kernelspec": {
   "display_name": "Python 3 (ipykernel)",
   "language": "python",
   "name": "python3"
  },
  "language_info": {
   "codemirror_mode": {
    "name": "ipython",
    "version": 3
   },
   "file_extension": ".py",
   "mimetype": "text/x-python",
   "name": "python",
   "nbconvert_exporter": "python",
   "pygments_lexer": "ipython3",
   "version": "3.9.5"
  }
 },
 "nbformat": 4,
 "nbformat_minor": 5
}
