{
 "cells": [
  {
   "cell_type": "code",
   "execution_count": 5,
   "id": "cc851bcb",
   "metadata": {},
   "outputs": [],
   "source": [
    "import pandas as pd\n",
    "import unittest\n",
    "import numpy as np\n"
   ]
  },
  {
   "cell_type": "code",
   "execution_count": 6,
   "id": "f0c086da",
   "metadata": {},
   "outputs": [
    {
     "name": "stderr",
     "output_type": "stream",
     "text": [
      "test_prepData (__main__.TestDataPrep) ... ok\n",
      "test_withNA (__main__.TestDataPrep) ... ok\n",
      "test_getItemsThatHaveElement (__main__.TestGetItemWithElements) ... ok\n",
      "test_yieldPrepData (__main__.TestYieldDataPrep) ... ok\n",
      "\n",
      "----------------------------------------------------------------------\n",
      "Ran 4 tests in 0.075s\n",
      "\n",
      "OK\n"
     ]
    }
   ],
   "source": [
    "%run Methods.ipynb"
   ]
  },
  {
   "cell_type": "code",
   "execution_count": 7,
   "id": "1938e5b2",
   "metadata": {},
   "outputs": [],
   "source": [
    "np.random.seed(1)\n",
    "testData = {'Area': (['Indonesia'] * 3 + ['China'] * 3 + ['UK'] * 3) * 3,\n",
    "            'Item': ['Apples'] * 9 + ['Grapes'] * 9 + ['Beehives'] * 9,\n",
    "            'Unit': ['hg/ha', 'tonnes', 'ha'] * 6 + [\"Unit\"] * 9,\n",
    "            'Element': ['Yield', 'Production', 'Area'] * 6 + ['Yield', 'Stocks', 'Count'] * 3,\n",
    "           '2019': np.random.randint(100, 100000, size = 27), '2020': np.random.randint(100, 100000, size = 27)}\n",
    "\n",
    "testDf = pd.DataFrame(testData)\n",
    "testDf.to_clipboard()"
   ]
  },
  {
   "cell_type": "code",
   "execution_count": 15,
   "id": "d2d7678b",
   "metadata": {},
   "outputs": [],
   "source": [
    "def subsetProductionData(agDF):\n",
    "    \"\"\"\n",
    "        Subset the dataframe to only be production data. \n",
    "        Args:\n",
    "            agDF: Agriculture dataframe from FAO\n",
    "        Returns: a dataframe with only production data. \n",
    "    \"\"\"\n",
    "    \n",
    "    productionElements = [\"Production\", \"Stocks\", \"Laying\", \"Prod Popultn\"]\n",
    "    \n",
    "    agDF = agDF[agDF['Element'].isin(productionElements)]\n",
    "\n",
    "    \n",
    "    return agDF"
   ]
  },
  {
   "cell_type": "code",
   "execution_count": 18,
   "id": "72a7b0d3",
   "metadata": {},
   "outputs": [],
   "source": [
    "def helperGetYearVals(df, year):\n",
    "    \"\"\"\n",
    "        Get the YEAR column in the dataframe.\n",
    "        Set NAN to zero. \n",
    "        Arguments:\n",
    "            df: dataframe\n",
    "            year: integer\n",
    "        Returns: a numpy array\n",
    "    \"\"\"\n",
    "    yearProd = df[\"Y\" + str(year)]\n",
    "    yearProd[np.isnan(yearProd)] = 1\n",
    "    return yearProd\n",
    "\n",
    "def helperCleanYearColumn(df, yearCol):\n",
    "    \"\"\"\n",
    "        Helper for productionChangeDF.\n",
    "        Clean a year column by making nan and 0 values 1\n",
    "        Arguments:\n",
    "            df: dataframe\n",
    "            yearCol: int, the column to clean\n",
    "    \"\"\"\n",
    "    df.fillna(1, inplace=True)\n",
    "    df.loc[df[yearCol] == 0, yearCol] = 1\n",
    "\n",
    "def productionChangeDF(agDF, y1, y2):\n",
    "    \"\"\"\n",
    "        Get a dataframe of [\"Item\", \"Element\", \"Unit\", \"Production Change\"]\n",
    "        where Production Change is the percentage change of production\n",
    "        of an item between years y1 and y2.\n",
    "        Args: \n",
    "            agDF: Agriculture dataframe from FAO\n",
    "            y1: int, the start year\n",
    "            y2: int, the end year\n",
    "        Returns: a dataframe \n",
    "    \"\"\"\n",
    "    \n",
    "    checkRange(y1, y2)\n",
    "    \n",
    "    df = agDF.copy()\n",
    "    df = dropRegionRows(df)\n",
    "    \n",
    "    \n",
    "    df.rename(columns = {\"Y\" + str(y1): y1, \"Y\" + str(y2): y2}, inplace=True)\n",
    "    \n",
    "    df = subsetProductionData(df)\n",
    "    df = df[['Area', 'Item', 'Element', \"Unit\"] + [y1, y2]]\n",
    "    y1Production = df.groupby([\"Item\", \"Element\", \"Unit\"])[y1].sum().reset_index()\n",
    "    y2Production = df.groupby([\"Item\",\"Element\", \"Unit\"])[y2].sum().reset_index()\n",
    "    totalProdDf = pd.merge(y1Production, y2Production, how=\"left\")\n",
    "    helperCleanYearColumn(totalProdDf, y1)\n",
    "    helperCleanYearColumn(totalProdDf, y2)\n",
    "    totalProdDf['Change'] = [round((p[1] - p[0]) / p[0], 2)for p in zip(totalProdDf[y1], totalProdDf[y2])]\n",
    "    return totalProdDf"
   ]
  },
  {
   "cell_type": "code",
   "execution_count": 19,
   "id": "7230a881",
   "metadata": {},
   "outputs": [],
   "source": [
    "def getYearsAllNANForItems(agData):\n",
    "    \"\"\"\n",
    "        For each item in the ag dataset, find which years if any\n",
    "        for which production for all countries is NAN.\n",
    "        Arguments:\n",
    "            agData: the agriculture dataset from the FAO\n",
    "        Returns: a dictionary of (items -> yearsNAN)\n",
    "    \"\"\"\n",
    "    itemElementDict = getItemToProductionElementDictionary(agData)\n",
    "    yearCol = createYearList(1961, 2020)\n",
    "\n",
    "    itemToAllNANCols = {}\n",
    "\n",
    "    for item in itemElementDict.keys():\n",
    "        itemDf = agData[(agData['Item'] == item) & (agData['Element'] == itemElementDict[item])]\n",
    "\n",
    "        colsAllNAN = []\n",
    "\n",
    "        for year in yearCol:\n",
    "            if (np.isnan(itemDf[year]).all()):\n",
    "                colsAllNAN.append(year)\n",
    "\n",
    "        if len(colsAllNAN) > 0:\n",
    "            itemToAllNANCols[item] = colsAllNAN\n",
    "    return itemToAllNANCols"
   ]
  },
  {
   "cell_type": "code",
   "execution_count": 20,
   "id": "faaf0e59",
   "metadata": {},
   "outputs": [],
   "source": [
    "class TestItemToProdElement(unittest.TestCase):\n",
    "    def createTestData(self):\n",
    "        \"\"\"\n",
    "            Create dataframe for testing\n",
    "        \"\"\"\n",
    "        np.random.seed(1)\n",
    "        testData = {'Area Code': ([1] * 3 +[2] * 3 + [3] * 3) * 3,\n",
    "                    'Area': (['Indonesia'] * 3 + ['China'] * 3 + ['UK'] * 3) * 3,\n",
    "            'Item': ['Apples'] * 9 + ['Grapes'] * 9 + ['Beehives'] * 9,\n",
    "            'Element': ['Yield', 'Production', 'Area'] * 6 + ['Yield', 'Stocks', 'Count'] * 3,\n",
    "            'Unit': ['hg/ha', 'tonnes', 'ha'] * 6 + [\"unit\"] * 9,        \n",
    "           'Y2019': np.random.randint(100, 100000, size = 27), 'Y2020': np.random.randint(100, 100000, size = 27)}\n",
    "        testDf = pd.DataFrame(testData)\n",
    "        return testDf\n",
    "    \n",
    "    def test_productionChange(self):\n",
    "        testDf = self.createTestData()\n",
    "        expectedData = {'Item': ['Apples', 'Grapes', 'Beehives'], 'Unit': ['tonnes', 'tonnes', 'unit'], \n",
    "                       'Element': [\"Production\", \"Production\", \"Stocks\"], \n",
    "                       'Percent Change': [-0.53, 0.34, 0.25]}\n",
    "        expectedDF = pd.DataFrame(expectedData)\n",
    "        actual = productionChangeDF(testDf, 2019, 2020)\n",
    "        \n",
    "        for item in [\"Apples\", \"Grapes\", \"Beehives\"]:\n",
    "            actualValue = actual.loc[actual[\"Item\"] == item, \"Change\"].iat[0]\n",
    "            expectedValue = expectedDF.loc[expectedDF['Item'] == item, \"Percent Change\"].iat[0]\n",
    "            self.assertAlmostEqual(expectedValue, actualValue, delta=0.01)"
   ]
  },
  {
   "cell_type": "code",
   "execution_count": 21,
   "id": "b8347231",
   "metadata": {},
   "outputs": [
    {
     "name": "stderr",
     "output_type": "stream",
     "text": [
      "test_prepData (__main__.TestDataPrep) ... ok\n",
      "test_withNA (__main__.TestDataPrep) ... ok\n",
      "test_getItemsThatHaveElement (__main__.TestGetItemWithElements) ... ok\n",
      "test_productionChange (__main__.TestItemToProdElement) ... ok\n",
      "test_yieldPrepData (__main__.TestYieldDataPrep) ... ok\n",
      "\n",
      "----------------------------------------------------------------------\n",
      "Ran 5 tests in 0.120s\n",
      "\n",
      "OK\n"
     ]
    },
    {
     "data": {
      "text/plain": [
       "<unittest.main.TestProgram at 0x25414e598b0>"
      ]
     },
     "execution_count": 21,
     "metadata": {},
     "output_type": "execute_result"
    }
   ],
   "source": [
    "unittest.main(argv=[''], verbosity=2, exit=False)"
   ]
  },
  {
   "cell_type": "code",
   "execution_count": null,
   "id": "024602a4",
   "metadata": {},
   "outputs": [],
   "source": []
  }
 ],
 "metadata": {
  "kernelspec": {
   "display_name": "Python 3 (ipykernel)",
   "language": "python",
   "name": "python3"
  },
  "language_info": {
   "codemirror_mode": {
    "name": "ipython",
    "version": 3
   },
   "file_extension": ".py",
   "mimetype": "text/x-python",
   "name": "python",
   "nbconvert_exporter": "python",
   "pygments_lexer": "ipython3",
   "version": "3.9.5"
  }
 },
 "nbformat": 4,
 "nbformat_minor": 5
}
