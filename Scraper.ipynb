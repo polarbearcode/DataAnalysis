{
 "cells": [
  {
   "cell_type": "code",
   "execution_count": 31,
   "id": "8f64adbf",
   "metadata": {},
   "outputs": [],
   "source": [
    "from bs4 import BeautifulSoup\n",
    "from selenium import webdriver\n",
    "from selenium.webdriver.chrome.service import Service\n",
    "from webdriver_manager.chrome import ChromeDriverManager\n",
    "from selenium.webdriver.common.by import By\n",
    "from selenium.webdriver.support.ui import WebDriverWait\n",
    "from selenium.webdriver.support import expected_conditions as EC "
   ]
  },
  {
   "cell_type": "code",
   "execution_count": 32,
   "id": "9dae9a45",
   "metadata": {},
   "outputs": [
    {
     "name": "stdout",
     "output_type": "stream",
     "text": [
      "\n"
     ]
    },
    {
     "name": "stderr",
     "output_type": "stream",
     "text": [
      "[WDM] - ====== WebDriver manager ======\n",
      "[WDM] - Current google-chrome version is 103.0.5060\n",
      "[WDM] - Get LATEST chromedriver version for 103.0.5060 google-chrome\n",
      "[WDM] - Driver [C:\\Users\\14159\\.wdm\\drivers\\chromedriver\\win32\\103.0.5060.53\\chromedriver.exe] found in cache\n"
     ]
    }
   ],
   "source": [
    "driver = webdriver.Chrome(service =Service(ChromeDriverManager().install()))"
   ]
  },
  {
   "cell_type": "code",
   "execution_count": 33,
   "id": "9c683f4e",
   "metadata": {},
   "outputs": [],
   "source": [
    "driver.get(\"https://www.basketball-reference.com/players/j/jamesle01.html\")\n",
    "playoffTab = driver.find_element(By.XPATH, \"//a[@data-show='.assoc_playoffs_per_game']\")\n",
    "#playoffTab = WebDriverWait(driver, 20).until(EC.element_to_be_clickable((By.XPATH, \"//a[@data-show='.assoc_playoffs_per_game']\")))\n",
    "#playoffTab.click()\n",
    "driver.execute_script(\"arguments[0].click()\", playoffTab)\n"
   ]
  },
  {
   "cell_type": "code",
   "execution_count": null,
   "id": "2e6a464a",
   "metadata": {},
   "outputs": [],
   "source": []
  }
 ],
 "metadata": {
  "kernelspec": {
   "display_name": "Python 3 (ipykernel)",
   "language": "python",
   "name": "python3"
  },
  "language_info": {
   "codemirror_mode": {
    "name": "ipython",
    "version": 3
   },
   "file_extension": ".py",
   "mimetype": "text/x-python",
   "name": "python",
   "nbconvert_exporter": "python",
   "pygments_lexer": "ipython3",
   "version": "3.9.5"
  }
 },
 "nbformat": 4,
 "nbformat_minor": 5
}
