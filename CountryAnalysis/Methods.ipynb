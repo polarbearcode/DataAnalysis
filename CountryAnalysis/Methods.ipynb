{
 "cells": [
  {
   "cell_type": "code",
   "execution_count": 1,
   "id": "4e1d0e76",
   "metadata": {},
   "outputs": [],
   "source": [
    "import pandas as pd\n",
    "import os"
   ]
  },
  {
   "cell_type": "code",
   "execution_count": 2,
   "id": "f34405e3",
   "metadata": {},
   "outputs": [],
   "source": [
    "def renameCountry(df, curName, newName):\n",
    "    \"\"\"\n",
    "        Change the country in innovation ranking dataset to it's name in the gdpPerCapita dataset.\n",
    "        Arguments:\n",
    "            df: The dataframe to edit\n",
    "            curName: The country's current name in the innovation ranking\n",
    "            newName: The country's name in the gdpPerCapita dataset\n",
    "    \"\"\"\n",
    "    df.loc[innovationRanking['Country Name'] == curName] = newName"
   ]
  },
  {
   "cell_type": "code",
   "execution_count": 3,
   "id": "2832ddd7",
   "metadata": {},
   "outputs": [],
   "source": [
    "def chooseRanking(rank2019, rank2020):\n",
    "    \"\"\"\n",
    "        Choose the more recent of ranks.\n",
    "        rank2019: the rank in 2019\n",
    "        rank2020: the rank in 2020\n",
    "    \"\"\"\n",
    "    \n",
    "    if (not pd.isna(rank2020)):\n",
    "        return rank2020\n",
    "    elif(not pd.isna(rank2019)):\n",
    "        return rank2019\n",
    "    else:\n",
    "        return 200\n",
    "    \n",
    "def addRankingColumn(globalInnovationIndexRanking):\n",
    "    \"\"\"\n",
    "        Add a column to globalInnovationIndexRanking that gets the most recent ranking if it's available.\n",
    "    \"\"\"\n",
    "    globalInnovationIndexRanking['Ranking'] = [chooseRanking(twoRanks[0], twoRanks[1]) for twoRanks in zip(globalInnovationIndexRanking['2019'], globalInnovationIndexRanking['2020'])]"
   ]
  },
  {
   "cell_type": "code",
   "execution_count": 4,
   "id": "5057c582",
   "metadata": {},
   "outputs": [],
   "source": [
    "def cleanFootNoteCells(combinedDF, cellsToClean):\n",
    "    \"\"\"\n",
    "        Clean cells from the GDP table with footnotes. \n",
    "        Arguments:\n",
    "            combinedDF: the dataframe to edit\n",
    "            cellsToClean: a list of length three tuples of (country, column, actual_value)\n",
    "    \"\"\"\n",
    "    for c in cellsToClean:\n",
    "        rowLocation = combinedDF['Country/Territory'].tolist().index(c[0])\n",
    "        colLocation = [col for col in combinedDF.columns].index(c[1])\n",
    "        combinedDF.iat[rowLocation, colLocation] = c[2]"
   ]
  },
  {
   "cell_type": "code",
   "execution_count": 5,
   "id": "e7c49125",
   "metadata": {},
   "outputs": [],
   "source": [
    "def mostRecentGDPEstimate(IMFEstimate, UNEstimate, WorldBankEstimate):\n",
    "    \"\"\"\n",
    "        Get the most recent GDP per capita estimate out of the three agencies. \n",
    "        Arguments will be tuples (estimate, year). \n",
    "        If all values are 0, return 0\n",
    "    \"\"\"\n",
    "    \n",
    "    orderedEstimates = sorted([IMFEstimate, UNEstimate, WorldBankEstimate], key=lambda x: int(x[1]))\n",
    "    return orderedEstimates[2][0]\n",
    "\n",
    "def createEstimateColumn(combinedDF):\n",
    "    \"\"\"\n",
    "        In the dataframe combinedDF, add a column that gives the most recent available GDP Per Capita estimate\n",
    "    \"\"\"\n",
    "    imfTuple = zip(combinedDF['IMF Estimate'], combinedDF['IMF Year'])\n",
    "    unTuple = zip(combinedDF['UN Estimate'], combinedDF['UN Year'])\n",
    "    wbTuple = zip(combinedDF['World Bank Estimate'], combinedDF['World Bank Year'])\n",
    "    combinedDF['GDP Per Capita'] = [mostRecentGDPEstimate(r[0], r[1], r[2]) for r in zip(imfTuple, unTuple, wbTuple)]"
   ]
  },
  {
   "cell_type": "code",
   "execution_count": null,
   "id": "f2f3e6ed",
   "metadata": {},
   "outputs": [],
   "source": []
  }
 ],
 "metadata": {
  "kernelspec": {
   "display_name": "Python 3 (ipykernel)",
   "language": "python",
   "name": "python3"
  },
  "language_info": {
   "codemirror_mode": {
    "name": "ipython",
    "version": 3
   },
   "file_extension": ".py",
   "mimetype": "text/x-python",
   "name": "python",
   "nbconvert_exporter": "python",
   "pygments_lexer": "ipython3",
   "version": "3.9.5"
  }
 },
 "nbformat": 4,
 "nbformat_minor": 5
}
