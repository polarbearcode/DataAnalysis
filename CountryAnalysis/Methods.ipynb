{
 "cells": [
  {
   "cell_type": "code",
   "execution_count": 9,
   "id": "4e1d0e76",
   "metadata": {},
   "outputs": [],
   "source": [
    "import pandas as pd\n",
    "import os\n",
    "import unittest"
   ]
  },
  {
   "cell_type": "code",
   "execution_count": 3,
   "id": "9110202c",
   "metadata": {},
   "outputs": [
    {
     "data": {
      "text/html": [
       "<div>\n",
       "<style scoped>\n",
       "    .dataframe tbody tr th:only-of-type {\n",
       "        vertical-align: middle;\n",
       "    }\n",
       "\n",
       "    .dataframe tbody tr th {\n",
       "        vertical-align: top;\n",
       "    }\n",
       "\n",
       "    .dataframe thead th {\n",
       "        text-align: right;\n",
       "    }\n",
       "</style>\n",
       "<table border=\"1\" class=\"dataframe\">\n",
       "  <thead>\n",
       "    <tr style=\"text-align: right;\">\n",
       "      <th></th>\n",
       "      <th>Country ISO3</th>\n",
       "      <th>Country Name</th>\n",
       "      <th>Indicator Id</th>\n",
       "      <th>Indicator</th>\n",
       "      <th>Subindicator Type</th>\n",
       "      <th>2013</th>\n",
       "      <th>2014</th>\n",
       "      <th>2015</th>\n",
       "      <th>2016</th>\n",
       "      <th>2017</th>\n",
       "      <th>2018</th>\n",
       "      <th>2019</th>\n",
       "      <th>2020</th>\n",
       "    </tr>\n",
       "  </thead>\n",
       "  <tbody>\n",
       "    <tr>\n",
       "      <th>0</th>\n",
       "      <td>ABW</td>\n",
       "      <td>Aruba</td>\n",
       "      <td>40261</td>\n",
       "      <td>Institutions</td>\n",
       "      <td>Rank</td>\n",
       "      <td>NaN</td>\n",
       "      <td>NaN</td>\n",
       "      <td>NaN</td>\n",
       "      <td>129.0</td>\n",
       "      <td>NaN</td>\n",
       "      <td>NaN</td>\n",
       "      <td>NaN</td>\n",
       "      <td>NaN</td>\n",
       "    </tr>\n",
       "    <tr>\n",
       "      <th>1</th>\n",
       "      <td>ABW</td>\n",
       "      <td>Aruba</td>\n",
       "      <td>40262</td>\n",
       "      <td>Institutions</td>\n",
       "      <td>Score (0-100)</td>\n",
       "      <td>NaN</td>\n",
       "      <td>NaN</td>\n",
       "      <td>NaN</td>\n",
       "      <td>0.0</td>\n",
       "      <td>NaN</td>\n",
       "      <td>NaN</td>\n",
       "      <td>NaN</td>\n",
       "      <td>NaN</td>\n",
       "    </tr>\n",
       "    <tr>\n",
       "      <th>2</th>\n",
       "      <td>ABW</td>\n",
       "      <td>Aruba</td>\n",
       "      <td>40266</td>\n",
       "      <td>Political stability</td>\n",
       "      <td>Value</td>\n",
       "      <td>NaN</td>\n",
       "      <td>NaN</td>\n",
       "      <td>1.3</td>\n",
       "      <td>NaN</td>\n",
       "      <td>NaN</td>\n",
       "      <td>NaN</td>\n",
       "      <td>NaN</td>\n",
       "      <td>NaN</td>\n",
       "    </tr>\n",
       "    <tr>\n",
       "      <th>3</th>\n",
       "      <td>ABW</td>\n",
       "      <td>Aruba</td>\n",
       "      <td>40270</td>\n",
       "      <td>Political stability and absence of violence/te...</td>\n",
       "      <td>Index</td>\n",
       "      <td>NaN</td>\n",
       "      <td>1.3</td>\n",
       "      <td>NaN</td>\n",
       "      <td>1.2</td>\n",
       "      <td>NaN</td>\n",
       "      <td>NaN</td>\n",
       "      <td>NaN</td>\n",
       "      <td>NaN</td>\n",
       "    </tr>\n",
       "    <tr>\n",
       "      <th>4</th>\n",
       "      <td>ABW</td>\n",
       "      <td>Aruba</td>\n",
       "      <td>40274</td>\n",
       "      <td>Government effectiveness</td>\n",
       "      <td>Index</td>\n",
       "      <td>NaN</td>\n",
       "      <td>1.2</td>\n",
       "      <td>1.2</td>\n",
       "      <td>0.9</td>\n",
       "      <td>NaN</td>\n",
       "      <td>NaN</td>\n",
       "      <td>NaN</td>\n",
       "      <td>NaN</td>\n",
       "    </tr>\n",
       "  </tbody>\n",
       "</table>\n",
       "</div>"
      ],
      "text/plain": [
       "  Country ISO3 Country Name  Indicator Id  \\\n",
       "0          ABW        Aruba         40261   \n",
       "1          ABW        Aruba         40262   \n",
       "2          ABW        Aruba         40266   \n",
       "3          ABW        Aruba         40270   \n",
       "4          ABW        Aruba         40274   \n",
       "\n",
       "                                           Indicator Subindicator Type  2013  \\\n",
       "0                                       Institutions              Rank   NaN   \n",
       "1                                       Institutions     Score (0-100)   NaN   \n",
       "2                                Political stability             Value   NaN   \n",
       "3  Political stability and absence of violence/te...             Index   NaN   \n",
       "4                           Government effectiveness             Index   NaN   \n",
       "\n",
       "   2014  2015   2016  2017  2018  2019  2020  \n",
       "0   NaN   NaN  129.0   NaN   NaN   NaN   NaN  \n",
       "1   NaN   NaN    0.0   NaN   NaN   NaN   NaN  \n",
       "2   NaN   1.3    NaN   NaN   NaN   NaN   NaN  \n",
       "3   1.3   NaN    1.2   NaN   NaN   NaN   NaN  \n",
       "4   1.2   1.2    0.9   NaN   NaN   NaN   NaN  "
      ]
     },
     "execution_count": 3,
     "metadata": {},
     "output_type": "execute_result"
    }
   ],
   "source": [
    "pathToData = os.path.join(os.getcwd(), \"Data\")\n",
    "pathToGDPTable = os.path.join(pathToData, \"GDP Per Capita.xlsx\")\n",
    "pathToRanking = os.path.join(pathToData, \"World Innovation Index.csv\")"
   ]
  },
  {
   "cell_type": "code",
   "execution_count": 4,
   "id": "f34405e3",
   "metadata": {},
   "outputs": [],
   "source": [
    "def renameCountry(df, curName, newName):\n",
    "    \"\"\"\n",
    "        Change the country in innovation ranking dataset to it's name in the gdpPerCapita dataset.\n",
    "        Arguments:\n",
    "            df: The dataframe to edit\n",
    "            curName: The country's current name in the innovation ranking\n",
    "            newName: The country's name in the gdpPerCapita dataset\n",
    "    \"\"\"\n",
    "    df.loc[df['Country Name'] == curName] = newName"
   ]
  },
  {
   "cell_type": "code",
   "execution_count": 5,
   "id": "2832ddd7",
   "metadata": {},
   "outputs": [],
   "source": [
    "def chooseRanking(rank2019, rank2020):\n",
    "    \"\"\"\n",
    "        Choose the more recent of ranks.\n",
    "        rank2019: the rank in 2019\n",
    "        rank2020: the rank in 2020\n",
    "    \"\"\"\n",
    "    \n",
    "    if (not pd.isna(rank2020)):\n",
    "        return rank2020\n",
    "    elif(not pd.isna(rank2019)):\n",
    "        return rank2019\n",
    "    else:\n",
    "        return 200\n",
    "    \n",
    "def addRankingColumn(globalInnovationIndexRanking):\n",
    "    \"\"\"\n",
    "        Add a column to globalInnovationIndexRanking that gets the most recent ranking if it's available.\n",
    "    \"\"\"\n",
    "    globalInnovationIndexRanking['Ranking'] = [chooseRanking(twoRanks[0], twoRanks[1]) for twoRanks in zip(globalInnovationIndexRanking['2019'], globalInnovationIndexRanking['2020'])]"
   ]
  },
  {
   "cell_type": "code",
   "execution_count": 39,
   "id": "5057c582",
   "metadata": {},
   "outputs": [],
   "source": [
    "def cleanFootNoteCells(combinedDF, cellsToClean):\n",
    "    \"\"\"\n",
    "        Clean cells from the GDP table with footnotes. \n",
    "        Arguments:\n",
    "            combinedDF: the dataframe to edit\n",
    "            cellsToClean: a list of length three tuples of (country, column, actual_value)\n",
    "    \"\"\"\n",
    "    for c in cellsToClean:\n",
    "        combinedDF.loc[combinedDF['Country/Territory'] == c[0], c[1]] = c[2]"
   ]
  },
  {
   "cell_type": "code",
   "execution_count": 76,
   "id": "e7c49125",
   "metadata": {},
   "outputs": [],
   "source": [
    "def mostRecentGDPEstimate(IMFEstimate, UNEstimate, WorldBankEstimate):\n",
    "    \"\"\"\n",
    "        Get the most recent GDP per capita estimate out of the three agencies. \n",
    "        Arguments will be tuples (estimate, year). \n",
    "        If all values are 0, return 0\n",
    "    \"\"\"\n",
    "    \n",
    "    orderedEstimates = sorted([IMFEstimate, UNEstimate, WorldBankEstimate], key=lambda x: (int(x[1]), int(x[0])))\n",
    "    return orderedEstimates[2][0]\n",
    "\n",
    "def createEstimateColumn(combinedDF):\n",
    "    \"\"\"\n",
    "        In the dataframe combinedDF, add a column that gives the most recent available GDP Per Capita estimate\n",
    "    \"\"\"\n",
    "    imfTuple = zip(combinedDF['IMF Estimate'], combinedDF['IMF Year'])\n",
    "    unTuple = zip(combinedDF['UN Estimate'], combinedDF['UN Year'])\n",
    "    wbTuple = zip(combinedDF['World Bank Estimate'], combinedDF['World Bank Year'])\n",
    "    combinedDF['GDP Per Capita'] = [mostRecentGDPEstimate(r[0], r[1], r[2]) for r in zip(imfTuple, unTuple, wbTuple)]"
   ]
  },
  {
   "cell_type": "code",
   "execution_count": 32,
   "id": "f2f3e6ed",
   "metadata": {},
   "outputs": [
    {
     "name": "stderr",
     "output_type": "stream",
     "text": [
      "testAddRankingColumn (__main__.TestAddRankingColumn) ... FAIL\n",
      "test_rename (__main__.TestRename) ... "
     ]
    },
    {
     "name": "stdout",
     "output_type": "stream",
     "text": [
      "18377    7.0\n",
      "Name: Ranking, dtype: float64\n"
     ]
    },
    {
     "name": "stderr",
     "output_type": "stream",
     "text": [
      "ok\n",
      "\n",
      "======================================================================\n",
      "FAIL: testAddRankingColumn (__main__.TestAddRankingColumn)\n",
      "----------------------------------------------------------------------\n",
      "Traceback (most recent call last):\n",
      "  File \"C:\\Users\\14159\\AppData\\Local\\Temp\\ipykernel_12732\\3366704955.py\", line 9, in testAddRankingColumn\n",
      "    self.assertEqual(finlandRanking.item, 7.0)\n",
      "AssertionError: <bound method IndexOpsMixin.item of 18377    7.0\n",
      "Name: Ranking, dtype: float64> != 7.0\n",
      "\n",
      "----------------------------------------------------------------------\n",
      "Ran 2 tests in 0.212s\n",
      "\n",
      "FAILED (failures=1)\n"
     ]
    },
    {
     "data": {
      "text/plain": [
       "<unittest.main.TestProgram at 0x234d0bf3f10>"
      ]
     },
     "execution_count": 32,
     "metadata": {},
     "output_type": "execute_result"
    }
   ],
   "source": [
    "class TestRename(unittest.TestCase):\n",
    "    \n",
    "    def test_rename(self):\n",
    "        rankDF = pd.read_csv(pathToRanking)\n",
    "        renameCountry(rankDF, \"Aruba\", \"Arb\")\n",
    "        self.assertEqual(rankDF.iloc[1][\"Country Name\"], \"Arb\")"
   ]
  },
  {
   "cell_type": "code",
   "execution_count": 38,
   "id": "1df92e8d",
   "metadata": {},
   "outputs": [
    {
     "name": "stderr",
     "output_type": "stream",
     "text": [
      "testAddRankingColumn (__main__.TestAddRankingColumn) ... ok\n",
      "test_rename (__main__.TestRename) ... ok\n",
      "\n",
      "----------------------------------------------------------------------\n",
      "Ran 2 tests in 0.256s\n",
      "\n",
      "OK\n"
     ]
    },
    {
     "data": {
      "text/plain": [
       "<unittest.main.TestProgram at 0x234d0c02a90>"
      ]
     },
     "execution_count": 38,
     "metadata": {},
     "output_type": "execute_result"
    }
   ],
   "source": [
    "class TestAddRankingColumn(unittest.TestCase):\n",
    "    def testAddRankingColumn(self):\n",
    "        rankDF = pd.read_csv(pathToRanking)\n",
    "        rankDF = rankDF.loc[(rankDF['Indicator'] == \"Global Innovation Index\") \n",
    "                      & (rankDF['Subindicator Type'] == \"Rank\")]\n",
    "        addRankingColumn(rankDF)\n",
    "        finlandRanking = rankDF.loc[rankDF['Country Name'] == \"Finland\",'Ranking'].iat[0]\n",
    "        self.assertEqual(finlandRanking, 7.0)     "
   ]
  },
  {
   "cell_type": "code",
   "execution_count": 48,
   "id": "4300b7eb",
   "metadata": {},
   "outputs": [],
   "source": [
    "class TestCleanFootNoteCells(unittest.TestCase):\n",
    "    def testClean(self):\n",
    "        gdpDF = pd.read_excel(pathToGDPTable)\n",
    "        cleanFootNoteCells(gdpDF,  [(\"Tanzania\", \"UN Year\", \"2020\")])\n",
    "        self.assertEqual(gdpDF.loc[gdpDF[\"Country/Territory\"] == \"Tanzania\", \"UN Year\"].iat[0], \"2020\")"
   ]
  },
  {
   "cell_type": "code",
   "execution_count": 82,
   "id": "567d253a",
   "metadata": {},
   "outputs": [],
   "source": [
    "class TestEstimateColumn(unittest.TestCase):\n",
    "    def testEstimateColumn(self):\n",
    "        gdpDF = pd.read_excel(pathToGDPTable)[:7]\n",
    "        gdpDF[['IMF Estimate', 'UN Estimate', 'World Bank Estimate']] = gdpDF[['IMF Estimate', 'UN Estimate', 'World Bank Estimate']].apply(pd.to_numeric)\n",
    "        createEstimateColumn(gdpDF)\n",
    "        self.assertEqual(gdpDF.loc[gdpDF[\"Country/Territory\"] == \"Cayman Islands\", \"GDP Per Capita\"].iat[0], \"23,881\")\n",
    "            "
   ]
  },
  {
   "cell_type": "code",
   "execution_count": 83,
   "id": "ca32848f",
   "metadata": {},
   "outputs": [
    {
     "name": "stderr",
     "output_type": "stream",
     "text": [
      "testAddRankingColumn (__main__.TestAddRankingColumn) ... ok\n",
      "testClean (__main__.TestCleanFootNoteCells) ... ok\n",
      "testEstimateColumn (__main__.TestEstimateColumn) ... ERROR\n",
      "test_rename (__main__.TestRename) ... ok\n",
      "\n",
      "======================================================================\n",
      "ERROR: testEstimateColumn (__main__.TestEstimateColumn)\n",
      "----------------------------------------------------------------------\n",
      "Traceback (most recent call last):\n",
      "  File \"pandas\\_libs\\lib.pyx\", line 2315, in pandas._libs.lib.maybe_convert_numeric\n",
      "ValueError: Unable to parse string \"135,046\"\n",
      "\n",
      "During handling of the above exception, another exception occurred:\n",
      "\n",
      "Traceback (most recent call last):\n",
      "  File \"C:\\Users\\14159\\AppData\\Local\\Temp\\ipykernel_12732\\331329645.py\", line 4, in testEstimateColumn\n",
      "    gdpDF[['IMF Estimate', 'UN Estimate', 'World Bank Estimate']] = gdpDF[['IMF Estimate', 'UN Estimate', 'World Bank Estimate']].apply(pd.to_numeric)\n",
      "  File \"c:\\users\\14159\\appdata\\local\\programs\\python\\python39\\lib\\site-packages\\pandas\\core\\frame.py\", line 8839, in apply\n",
      "    return op.apply().__finalize__(self, method=\"apply\")\n",
      "  File \"c:\\users\\14159\\appdata\\local\\programs\\python\\python39\\lib\\site-packages\\pandas\\core\\apply.py\", line 727, in apply\n",
      "    return self.apply_standard()\n",
      "  File \"c:\\users\\14159\\appdata\\local\\programs\\python\\python39\\lib\\site-packages\\pandas\\core\\apply.py\", line 851, in apply_standard\n",
      "    results, res_index = self.apply_series_generator()\n",
      "  File \"c:\\users\\14159\\appdata\\local\\programs\\python\\python39\\lib\\site-packages\\pandas\\core\\apply.py\", line 867, in apply_series_generator\n",
      "    results[i] = self.f(v)\n",
      "  File \"c:\\users\\14159\\appdata\\local\\programs\\python\\python39\\lib\\site-packages\\pandas\\core\\tools\\numeric.py\", line 184, in to_numeric\n",
      "    values, _ = lib.maybe_convert_numeric(\n",
      "  File \"pandas\\_libs\\lib.pyx\", line 2357, in pandas._libs.lib.maybe_convert_numeric\n",
      "ValueError: Unable to parse string \"135,046\" at position 2\n",
      "\n",
      "----------------------------------------------------------------------\n",
      "Ran 4 tests in 0.410s\n",
      "\n",
      "FAILED (errors=1)\n"
     ]
    },
    {
     "data": {
      "text/plain": [
       "<unittest.main.TestProgram at 0x234d1f199d0>"
      ]
     },
     "execution_count": 83,
     "metadata": {},
     "output_type": "execute_result"
    }
   ],
   "source": [
    "unittest.main(argv=[''], verbosity=2, exit=False)"
   ]
  },
  {
   "cell_type": "code",
   "execution_count": 84,
   "id": "8ecf92c5",
   "metadata": {},
   "outputs": [
    {
     "ename": "ValueError",
     "evalue": "invalid literal for int() with base 10: '123,123'",
     "output_type": "error",
     "traceback": [
      "\u001b[1;31m---------------------------------------------------------------------------\u001b[0m",
      "\u001b[1;31mValueError\u001b[0m                                Traceback (most recent call last)",
      "Input \u001b[1;32mIn [84]\u001b[0m, in \u001b[0;36m<cell line: 1>\u001b[1;34m()\u001b[0m\n\u001b[1;32m----> 1\u001b[0m \u001b[38;5;28;43mint\u001b[39;49m\u001b[43m(\u001b[49m\u001b[38;5;124;43m\"\u001b[39;49m\u001b[38;5;124;43m123,123\u001b[39;49m\u001b[38;5;124;43m\"\u001b[39;49m\u001b[43m)\u001b[49m\n",
      "\u001b[1;31mValueError\u001b[0m: invalid literal for int() with base 10: '123,123'"
     ]
    }
   ],
   "source": []
  },
  {
   "cell_type": "code",
   "execution_count": null,
   "id": "452436e4",
   "metadata": {},
   "outputs": [],
   "source": []
  }
 ],
 "metadata": {
  "kernelspec": {
   "display_name": "Python 3 (ipykernel)",
   "language": "python",
   "name": "python3"
  },
  "language_info": {
   "codemirror_mode": {
    "name": "ipython",
    "version": 3
   },
   "file_extension": ".py",
   "mimetype": "text/x-python",
   "name": "python",
   "nbconvert_exporter": "python",
   "pygments_lexer": "ipython3",
   "version": "3.9.5"
  }
 },
 "nbformat": 4,
 "nbformat_minor": 5
}
