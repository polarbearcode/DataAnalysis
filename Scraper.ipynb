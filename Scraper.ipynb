{
 "cells": [
  {
   "cell_type": "code",
   "execution_count": 15,
   "id": "8f64adbf",
   "metadata": {},
   "outputs": [],
   "source": [
    "from bs4 import BeautifulSoup\n",
    "from selenium import webdriver\n",
    "from selenium.webdriver.chrome.service import Service\n",
    "from webdriver_manager.chrome import ChromeDriverManager\n",
    "from selenium.webdriver.common.by import By\n",
    "from selenium.webdriver.support.ui import WebDriverWait\n",
    "from selenium.webdriver.support import expected_conditions as EC \n",
    "import time\n",
    "import os\n",
    "import shutil"
   ]
  },
  {
   "cell_type": "code",
   "execution_count": 2,
   "id": "9dae9a45",
   "metadata": {},
   "outputs": [
    {
     "name": "stdout",
     "output_type": "stream",
     "text": [
      "\n"
     ]
    },
    {
     "name": "stderr",
     "output_type": "stream",
     "text": [
      "[WDM] - ====== WebDriver manager ======\n",
      "[WDM] - Current google-chrome version is 103.0.5060\n",
      "[WDM] - Get LATEST chromedriver version for 103.0.5060 google-chrome\n",
      "[WDM] - Driver [C:\\Users\\14159\\.wdm\\drivers\\chromedriver\\win32\\103.0.5060.53\\chromedriver.exe] found in cache\n"
     ]
    }
   ],
   "source": [
    "driver = webdriver.Chrome(service =Service(ChromeDriverManager().install()))"
   ]
  },
  {
   "cell_type": "code",
   "execution_count": 3,
   "id": "9c683f4e",
   "metadata": {},
   "outputs": [],
   "source": [
    "driver.get(\"https://www.basketball-reference.com/players/j/jamesle01.html\")\n",
    "playoffTab = driver.find_element(By.XPATH, \"//a[@data-show='.assoc_playoffs_per_game']\")\n",
    "#playoffTab = WebDriverWait(driver, 20).until(EC.element_to_be_clickable((By.XPATH, \"//a[@data-show='.assoc_playoffs_per_game']\")))\n",
    "#playoffTab.click()\n",
    "driver.execute_script(\"arguments[0].click()\", playoffTab)\n"
   ]
  },
  {
   "cell_type": "code",
   "execution_count": 4,
   "id": "2e6a464a",
   "metadata": {},
   "outputs": [
    {
     "name": "stdout",
     "output_type": "stream",
     "text": [
      "15\n"
     ]
    }
   ],
   "source": [
    "seasonLinks = driver.find_elements(By.XPATH, \"//table[@id='playoffs_per_game']//th[@data-stat='season']//a\")\n",
    "print(len(seasonLinks))"
   ]
  },
  {
   "cell_type": "code",
   "execution_count": 5,
   "id": "ca678595",
   "metadata": {},
   "outputs": [
    {
     "name": "stdout",
     "output_type": "stream",
     "text": [
      "2005-06\n",
      "2006-07\n",
      "2007-08\n",
      "2008-09\n",
      "2009-10\n",
      "2010-11\n",
      "2011-12\n",
      "2012-13\n",
      "2013-14\n",
      "2014-15\n",
      "2015-16\n",
      "2016-17\n",
      "2017-18\n",
      "2019-20\n",
      "2020-21\n"
     ]
    }
   ],
   "source": [
    "for s in seasonLinks:\n",
    "    print(s.text)"
   ]
  },
  {
   "cell_type": "code",
   "execution_count": 6,
   "id": "d6db5304",
   "metadata": {},
   "outputs": [],
   "source": [
    "driver.execute_script(\"arguments[0].click()\", seasonLinks[0])"
   ]
  },
  {
   "cell_type": "code",
   "execution_count": 7,
   "id": "18862011",
   "metadata": {},
   "outputs": [],
   "source": [
    "toCSV = driver.find_element(By.XPATH, \"//*[@id='pgl_basic_playoffs_sh']/div/ul/li[1]/div/ul/li[4]/button\")\n",
    "driver.execute_script(\"arguments[0].click()\", toCSV)"
   ]
  },
  {
   "cell_type": "code",
   "execution_count": 8,
   "id": "03a51ec7",
   "metadata": {},
   "outputs": [
    {
     "name": "stdout",
     "output_type": "stream",
     "text": [
      "--- When using SR data, please cite us and provide a link and/or a mention.\n",
      "\n",
      "\n",
      " \n",
      "Rk,G,Date,Age,Tm,,Opp,,GS,MP,FG,FGA,FG%,3P,3PA,3P%,FT,FTA,FT%,ORB,DRB,TRB,AST,STL,BLK,TOV,PF,PTS,GmSc,+/-\n",
      "1,1,2006-04-22,21-113,CLE,,WAS,W (+11),1,48:00,12,27,.444,1,4,.250,7,11,.636,3,8,11,11,0,0,4,3,32,23.3,+11\n",
      "2,2,2006-04-25,21-116,CLE,,WAS,L (-5),1,43:28,7,25,.280,1,6,.167,11,15,.733,2,7,9,2,2,3,10,5,26,6.7,-2\n",
      "3,3,2006-04-28,21-119,CLE,@,WAS,W (+1),1,47:37,16,28,.571,3,5,.600,6,9,.667,1,4,5,3,2,0,4,3,41,27.4,+1\n",
      "4,4,2006-04-30,21-121,CLE,@,WAS,L (-10),1,45:20,13,23,.565,7,12,.583,5,7,.714,1,5,6,5,0,0,7,5,38,23.0,-16\n",
      "5,5,2006-05-03,21-124,CLE,,WAS,W (+1),1,46:07,14,23,.609,0,1,.000,17,18,.944,5,2,7,6,2,0,4,5,45,38.4,-4\n",
      "6,6,2006-05-05,21-126,CLE,@,WAS,W (+1),1,53:00,15,25,.600,1,6,.167,1,3,.333,0,7,7,7,2,1,5,4,32,22.8,+1\n",
      "7,7,2006-05-07,21-128,CLE,@,DET,L (-27),1,36:00,9,18,.500,2,5,.400,2,2,1.000,1,3,4,4,0,0,4,3,22,12.2,-31\n",
      "8,8,2006-05-09,21-130,CLE,@,DET,L (-6),1,47:32,11,23,.478,2,5,.400,6,8,.750,2,12,14,7,0,0,3,4,30,22.8,-4\n",
      "9,9,2006-05-13,21-134,CLE,,DET,W (+9),1,48:00,9,18,.500,1,4,.250,2,2,1.000,0,10,10,10,4,1,4,2,21,21.9,+9\n",
      "10,10,2006-05-15,21-136,CLE,,DET,W (+2),1,48:00,8,23,.348,1,2,.500,5,10,.500,1,7,8,9,2,2,8,3,22,10.4,+2\n",
      "11,11,2006-05-17,21-138,CLE,@,DET,W (+2),1,46:50,13,30,.433,1,4,.250,5,7,.714,3,2,5,5,2,1,2,3,32,21.1,+2\n",
      "12,12,2006-05-19,21-140,CLE,,DET,L (-2),1,47:50,8,20,.400,1,5,.200,15,18,.833,0,11,11,5,1,1,7,2,32,20.7,-2\n",
      "13,13,2006-05-21,21-142,CLE,@,DET,L (-18),1,46:45,11,24,.458,0,4,.000,5,8,.625,3,5,8,2,1,0,3,2,27,15.6,-16\n"
     ]
    }
   ],
   "source": [
    "csvText = driver.find_element(By.XPATH, \"//pre[@id='csv_pgl_basic_playoffs']\")\n",
    "print(csvText.text)"
   ]
  },
  {
   "cell_type": "code",
   "execution_count": 9,
   "id": "84be523b",
   "metadata": {},
   "outputs": [
    {
     "name": "stdout",
     "output_type": "stream",
     "text": [
      "\n",
      "Rk,G,Date,Age,Tm,,Opp,,GS,MP,FG,FGA,FG%,3P,3PA,3P%,FT,FTA,FT%,ORB,DRB,TRB,AST,STL,BLK,TOV,PF,PTS,GmSc,+/-\n",
      "\n",
      "1,1,2006-04-22,21-113,CLE,,WAS,W (+11),1,48:00,12,27,.444,1,4,.250,7,11,.636,3,8,11,11,0,0,4,3,32,23.3,+11\n"
     ]
    }
   ],
   "source": [
    "for line in csvText.text.splitlines()[4:6]:\n",
    "    print(\"\\n\" + line)"
   ]
  },
  {
   "cell_type": "code",
   "execution_count": 10,
   "id": "2326d186",
   "metadata": {},
   "outputs": [
    {
     "name": "stdout",
     "output_type": "stream",
     "text": [
      "Rk,G,Date,Age,Tm,,Opp,,GS,MP,FG,FGA,FG%,3P,3PA,3P%,FT,FTA,FT%,ORB,DRB,TRB,AST,STL,BLK,TOV,PF,PTS,GmSc,+/-\n",
      "1,1,2006-04-22,21-113,CLE,,WAS,W (+11),1,48:00,12,27,.444,1,4,.250,7,11,.636,3,8,11,11,0,0,4,3,32,23.3,+11\n",
      "2,2,2006-04-25,21-116,CLE,,WAS,L (-5),1,43:28,7,25,.280,1,6,.167,11,15,.733,2,7,9,2,2,3,10,5,26,6.7,-2\n",
      "3,3,2006-04-28,21-119,CLE,@,WAS,W (+1),1,47:37,16,28,.571,3,5,.600,6,9,.667,1,4,5,3,2,0,4,3,41,27.4,+1\n",
      "4,4,2006-04-30,21-121,CLE,@,WAS,L (-10),1,45:20,13,23,.565,7,12,.583,5,7,.714,1,5,6,5,0,0,7,5,38,23.0,-16\n",
      "5,5,2006-05-03,21-124,CLE,,WAS,W (+1),1,46:07,14,23,.609,0,1,.000,17,18,.944,5,2,7,6,2,0,4,5,45,38.4,-4\n",
      "6,6,2006-05-05,21-126,CLE,@,WAS,W (+1),1,53:00,15,25,.600,1,6,.167,1,3,.333,0,7,7,7,2,1,5,4,32,22.8,+1\n",
      "7,7,2006-05-07,21-128,CLE,@,DET,L (-27),1,36:00,9,18,.500,2,5,.400,2,2,1.000,1,3,4,4,0,0,4,3,22,12.2,-31\n",
      "8,8,2006-05-09,21-130,CLE,@,DET,L (-6),1,47:32,11,23,.478,2,5,.400,6,8,.750,2,12,14,7,0,0,3,4,30,22.8,-4\n",
      "9,9,2006-05-13,21-134,CLE,,DET,W (+9),1,48:00,9,18,.500,1,4,.250,2,2,1.000,0,10,10,10,4,1,4,2,21,21.9,+9\n",
      "10,10,2006-05-15,21-136,CLE,,DET,W (+2),1,48:00,8,23,.348,1,2,.500,5,10,.500,1,7,8,9,2,2,8,3,22,10.4,+2\n",
      "11,11,2006-05-17,21-138,CLE,@,DET,W (+2),1,46:50,13,30,.433,1,4,.250,5,7,.714,3,2,5,5,2,1,2,3,32,21.1,+2\n",
      "12,12,2006-05-19,21-140,CLE,,DET,L (-2),1,47:50,8,20,.400,1,5,.200,15,18,.833,0,11,11,5,1,1,7,2,32,20.7,-2\n",
      "13,13,2006-05-21,21-142,CLE,@,DET,L (-18),1,46:45,11,24,.458,0,4,.000,5,8,.625,3,5,8,2,1,0,3,2,27,15.6,-16\n"
     ]
    }
   ],
   "source": [
    "csvFile = open('Data/2020.csv', 'a+')\n",
    "for line in csvText.text.splitlines()[4:]:\n",
    "    print(line)\n",
    "    csvFile.write(line + \"\\n\")\n",
    "csvFile.close()    \n"
   ]
  },
  {
   "cell_type": "code",
   "execution_count": 9,
   "id": "498894af",
   "metadata": {},
   "outputs": [
    {
     "name": "stdout",
     "output_type": "stream",
     "text": [
      "Data/2021.csv\n"
     ]
    }
   ],
   "source": [
    "# String to write csv file for a specific year\n",
    "def fileNameString(year):\n",
    "    \"\"\"Create a file path for the provided year. \n",
    "        Arguments:\n",
    "            year: String, like \"2020-21\"\n",
    "    \"\"\"\n",
    "    return \"Data/\" + year[0:2] + year[len(year) - 2 : len(year)] +\".csv\"\n",
    "print(fileNameString(\"2020-21\"))"
   ]
  },
  {
   "cell_type": "code",
   "execution_count": 10,
   "id": "a6f5160b",
   "metadata": {},
   "outputs": [],
   "source": [
    "def numberPlayoffSeasons(playerUrl, driver):\n",
    "    \"\"\"\n",
    "        Get the number of playoff appearances by the player\n",
    "            Number of links on BBallRef page\n",
    "        Arguemnts:\n",
    "            playerUrl: String, url to the player's BBallRef homepage. \n",
    "            driver: A Webdriver\n",
    "    \"\"\"\n",
    "    driver.get(playerUrl)\n",
    "    playoffTab = driver.find_element(By.XPATH, \"//a[@data-show='.assoc_playoffs_per_game']\")\n",
    "    driver.execute_script(\"arguments[0].click()\", playoffTab)\n",
    "    seasonLinks = driver.find_elements(By.XPATH, \"//table[@id='playoffs_per_game']//th[@data-stat='season']//a\")\n",
    "    return len(seasonLinks)"
   ]
  },
  {
   "cell_type": "code",
   "execution_count": 11,
   "id": "fa4b302a",
   "metadata": {},
   "outputs": [],
   "source": [
    "def pauseCode(t):\n",
    "    \"\"\"\n",
    "        Pause code execution for t seconds.\n",
    "        Arguments:\n",
    "            t: int, number of seconds to pause. \n",
    "    \"\"\"\n",
    "    time.sleep(t)"
   ]
  },
  {
   "cell_type": "code",
   "execution_count": 17,
   "id": "d8fd7dfa",
   "metadata": {},
   "outputs": [
    {
     "name": "stdout",
     "output_type": "stream",
     "text": [
      "C:\\DataAnalysis\\LebronPlayoffData\n"
     ]
    }
   ],
   "source": [
    "def clearData():\n",
    "    \"\"\"\n",
    "        Clear current CSV files in the Data folder\n",
    "        \n",
    "    \"\"\"\n",
    "     "
   ]
  },
  {
   "cell_type": "code",
   "execution_count": 12,
   "id": "5c852be5",
   "metadata": {},
   "outputs": [],
   "source": [
    "t = 2;\n",
    "def getData(playerUrl):\n",
    "    \"\"\"\n",
    "        Save all playoff data of a player to a csv file in the Data folder.\n",
    "        Arguments:\n",
    "            playerUrl: String, url to the player's BBallRef homepage. \n",
    "    \"\"\"\n",
    "    driver = webdriver.Chrome(service =Service(ChromeDriverManager().install()))\n",
    "    numPlayoffLinks = numberPlayoffSeasons(playerUrl, driver)\n",
    "    for i in range(numPlayoffLinks):\n",
    "        driver.get(playerUrl)\n",
    "        pauseCode(t)\n",
    "        playoffTab = driver.find_element(By.XPATH, \"//a[@data-show='.assoc_playoffs_per_game']\")\n",
    "        driver.execute_script(\"arguments[0].click()\", playoffTab)\n",
    "        pauseCode(t)\n",
    "        seasonLinks = driver.find_elements(By.XPATH, \"//table[@id='playoffs_per_game']//th[@data-stat='season']//a\")\n",
    "        season = seasonLinks[i].text\n",
    "        csvFileName = fileNameString(seasonLinks[i].text)\n",
    "        driver.execute_script(\"arguments[0].click()\", seasonLinks[i])\n",
    "        toCSV = driver.find_element(By.XPATH, \"//*[@id='pgl_basic_playoffs_sh']//[@tip='Convert the table below to comma-sepearated values'])\n",
    "        driver.execute_script(\"arguments[0].click()\", toCSV)\n",
    "        csvText = driver.find_element(By.XPATH, \"//pre[@id='csv_pgl_basic_playoffs']\")\n",
    "        csvFile = open(csvFileName, 'a+')\n",
    "        for line in csvText.text.splitlines()[4:]:\n",
    "            csvFile.write(line + \"\\n\")\n",
    "        csvFile.close()    \n",
    "        pauseCode(t + t)\n",
    "    driver.close()"
   ]
  },
  {
   "cell_type": "code",
   "execution_count": 13,
   "id": "9f8d610a",
   "metadata": {},
   "outputs": [
    {
     "name": "stdout",
     "output_type": "stream",
     "text": [
      "\n"
     ]
    },
    {
     "name": "stderr",
     "output_type": "stream",
     "text": [
      "[WDM] - ====== WebDriver manager ======\n",
      "[WDM] - Current google-chrome version is 103.0.5060\n",
      "[WDM] - Get LATEST chromedriver version for 103.0.5060 google-chrome\n",
      "[WDM] - About to download new driver from https://chromedriver.storage.googleapis.com/103.0.5060.53/chromedriver_win32.zip\n",
      "[WDM] - Driver has been saved in cache [C:\\Users\\14159\\.wdm\\drivers\\chromedriver\\win32\\103.0.5060.53]\n"
     ]
    },
    {
     "ename": "NoSuchElementException",
     "evalue": "Message: no such element: Unable to locate element: {\"method\":\"xpath\",\"selector\":\"//*[@id='pgl_basic_playoffs_sh']/div/ul/li[1]/div/ul/li[4]/button\"}\n  (Session info: chrome=103.0.5060.66)\nStacktrace:\nBacktrace:\n\tOrdinal0 [0x00CE6463+2188387]\n\tOrdinal0 [0x00C7E461+1762401]\n\tOrdinal0 [0x00B93D78+802168]\n\tOrdinal0 [0x00BC1880+989312]\n\tOrdinal0 [0x00BC1B1B+989979]\n\tOrdinal0 [0x00BEE912+1173778]\n\tOrdinal0 [0x00BDC824+1099812]\n\tOrdinal0 [0x00BECC22+1166370]\n\tOrdinal0 [0x00BDC5F6+1099254]\n\tOrdinal0 [0x00BB6BE0+945120]\n\tOrdinal0 [0x00BB7AD6+948950]\n\tGetHandleVerifier [0x00F871F2+2712546]\n\tGetHandleVerifier [0x00F7886D+2652765]\n\tGetHandleVerifier [0x00D7002A+520730]\n\tGetHandleVerifier [0x00D6EE06+516086]\n\tOrdinal0 [0x00C8468B+1787531]\n\tOrdinal0 [0x00C88E88+1805960]\n\tOrdinal0 [0x00C88F75+1806197]\n\tOrdinal0 [0x00C91DF1+1842673]\n\tBaseThreadInitThunk [0x768F6739+25]\n\tRtlGetFullPathName_UEx [0x77948FEF+1215]\n\tRtlGetFullPathName_UEx [0x77948FBD+1165]\n",
     "output_type": "error",
     "traceback": [
      "\u001b[1;31m---------------------------------------------------------------------------\u001b[0m",
      "\u001b[1;31mNoSuchElementException\u001b[0m                    Traceback (most recent call last)",
      "Input \u001b[1;32mIn [13]\u001b[0m, in \u001b[0;36m<cell line: 1>\u001b[1;34m()\u001b[0m\n\u001b[1;32m----> 1\u001b[0m \u001b[43mgetData\u001b[49m\u001b[43m(\u001b[49m\u001b[38;5;124;43m\"\u001b[39;49m\u001b[38;5;124;43mhttps://www.basketball-reference.com/players/j/jamesle01.html\u001b[39;49m\u001b[38;5;124;43m\"\u001b[39;49m\u001b[43m)\u001b[49m\n",
      "Input \u001b[1;32mIn [12]\u001b[0m, in \u001b[0;36mgetData\u001b[1;34m(playerUrl)\u001b[0m\n\u001b[0;32m     18\u001b[0m csvFileName \u001b[38;5;241m=\u001b[39m fileNameString(seasonLinks[i]\u001b[38;5;241m.\u001b[39mtext)\n\u001b[0;32m     19\u001b[0m driver\u001b[38;5;241m.\u001b[39mexecute_script(\u001b[38;5;124m\"\u001b[39m\u001b[38;5;124marguments[0].click()\u001b[39m\u001b[38;5;124m\"\u001b[39m, seasonLinks[i])\n\u001b[1;32m---> 20\u001b[0m toCSV \u001b[38;5;241m=\u001b[39m \u001b[43mdriver\u001b[49m\u001b[38;5;241;43m.\u001b[39;49m\u001b[43mfind_element\u001b[49m\u001b[43m(\u001b[49m\u001b[43mBy\u001b[49m\u001b[38;5;241;43m.\u001b[39;49m\u001b[43mXPATH\u001b[49m\u001b[43m,\u001b[49m\u001b[43m \u001b[49m\u001b[38;5;124;43m\"\u001b[39;49m\u001b[38;5;124;43m//*[@id=\u001b[39;49m\u001b[38;5;124;43m'\u001b[39;49m\u001b[38;5;124;43mpgl_basic_playoffs_sh\u001b[39;49m\u001b[38;5;124;43m'\u001b[39;49m\u001b[38;5;124;43m]/div/ul/li[1]/div/ul/li[4]/button\u001b[39;49m\u001b[38;5;124;43m\"\u001b[39;49m\u001b[43m)\u001b[49m\n\u001b[0;32m     21\u001b[0m driver\u001b[38;5;241m.\u001b[39mexecute_script(\u001b[38;5;124m\"\u001b[39m\u001b[38;5;124marguments[0].click()\u001b[39m\u001b[38;5;124m\"\u001b[39m, toCSV)\n\u001b[0;32m     22\u001b[0m csvText \u001b[38;5;241m=\u001b[39m driver\u001b[38;5;241m.\u001b[39mfind_element(By\u001b[38;5;241m.\u001b[39mXPATH, \u001b[38;5;124m\"\u001b[39m\u001b[38;5;124m//pre[@id=\u001b[39m\u001b[38;5;124m'\u001b[39m\u001b[38;5;124mcsv_pgl_basic_playoffs\u001b[39m\u001b[38;5;124m'\u001b[39m\u001b[38;5;124m]\u001b[39m\u001b[38;5;124m\"\u001b[39m)\n",
      "File \u001b[1;32mc:\\users\\14159\\appdata\\local\\programs\\python\\python39\\lib\\site-packages\\selenium\\webdriver\\remote\\webdriver.py:1251\u001b[0m, in \u001b[0;36mWebDriver.find_element\u001b[1;34m(self, by, value)\u001b[0m\n\u001b[0;32m   1248\u001b[0m     by \u001b[38;5;241m=\u001b[39m By\u001b[38;5;241m.\u001b[39mCSS_SELECTOR\n\u001b[0;32m   1249\u001b[0m     value \u001b[38;5;241m=\u001b[39m \u001b[38;5;124m'\u001b[39m\u001b[38;5;124m[name=\u001b[39m\u001b[38;5;124m\"\u001b[39m\u001b[38;5;132;01m%s\u001b[39;00m\u001b[38;5;124m\"\u001b[39m\u001b[38;5;124m]\u001b[39m\u001b[38;5;124m'\u001b[39m \u001b[38;5;241m%\u001b[39m value\n\u001b[1;32m-> 1251\u001b[0m \u001b[38;5;28;01mreturn\u001b[39;00m \u001b[38;5;28;43mself\u001b[39;49m\u001b[38;5;241;43m.\u001b[39;49m\u001b[43mexecute\u001b[49m\u001b[43m(\u001b[49m\u001b[43mCommand\u001b[49m\u001b[38;5;241;43m.\u001b[39;49m\u001b[43mFIND_ELEMENT\u001b[49m\u001b[43m,\u001b[49m\u001b[43m \u001b[49m\u001b[43m{\u001b[49m\n\u001b[0;32m   1252\u001b[0m \u001b[43m    \u001b[49m\u001b[38;5;124;43m'\u001b[39;49m\u001b[38;5;124;43musing\u001b[39;49m\u001b[38;5;124;43m'\u001b[39;49m\u001b[43m:\u001b[49m\u001b[43m \u001b[49m\u001b[43mby\u001b[49m\u001b[43m,\u001b[49m\n\u001b[0;32m   1253\u001b[0m \u001b[43m    \u001b[49m\u001b[38;5;124;43m'\u001b[39;49m\u001b[38;5;124;43mvalue\u001b[39;49m\u001b[38;5;124;43m'\u001b[39;49m\u001b[43m:\u001b[49m\u001b[43m \u001b[49m\u001b[43mvalue\u001b[49m\u001b[43m}\u001b[49m\u001b[43m)\u001b[49m[\u001b[38;5;124m'\u001b[39m\u001b[38;5;124mvalue\u001b[39m\u001b[38;5;124m'\u001b[39m]\n",
      "File \u001b[1;32mc:\\users\\14159\\appdata\\local\\programs\\python\\python39\\lib\\site-packages\\selenium\\webdriver\\remote\\webdriver.py:430\u001b[0m, in \u001b[0;36mWebDriver.execute\u001b[1;34m(self, driver_command, params)\u001b[0m\n\u001b[0;32m    428\u001b[0m response \u001b[38;5;241m=\u001b[39m \u001b[38;5;28mself\u001b[39m\u001b[38;5;241m.\u001b[39mcommand_executor\u001b[38;5;241m.\u001b[39mexecute(driver_command, params)\n\u001b[0;32m    429\u001b[0m \u001b[38;5;28;01mif\u001b[39;00m response:\n\u001b[1;32m--> 430\u001b[0m     \u001b[38;5;28;43mself\u001b[39;49m\u001b[38;5;241;43m.\u001b[39;49m\u001b[43merror_handler\u001b[49m\u001b[38;5;241;43m.\u001b[39;49m\u001b[43mcheck_response\u001b[49m\u001b[43m(\u001b[49m\u001b[43mresponse\u001b[49m\u001b[43m)\u001b[49m\n\u001b[0;32m    431\u001b[0m     response[\u001b[38;5;124m'\u001b[39m\u001b[38;5;124mvalue\u001b[39m\u001b[38;5;124m'\u001b[39m] \u001b[38;5;241m=\u001b[39m \u001b[38;5;28mself\u001b[39m\u001b[38;5;241m.\u001b[39m_unwrap_value(\n\u001b[0;32m    432\u001b[0m         response\u001b[38;5;241m.\u001b[39mget(\u001b[38;5;124m'\u001b[39m\u001b[38;5;124mvalue\u001b[39m\u001b[38;5;124m'\u001b[39m, \u001b[38;5;28;01mNone\u001b[39;00m))\n\u001b[0;32m    433\u001b[0m     \u001b[38;5;28;01mreturn\u001b[39;00m response\n",
      "File \u001b[1;32mc:\\users\\14159\\appdata\\local\\programs\\python\\python39\\lib\\site-packages\\selenium\\webdriver\\remote\\errorhandler.py:247\u001b[0m, in \u001b[0;36mErrorHandler.check_response\u001b[1;34m(self, response)\u001b[0m\n\u001b[0;32m    245\u001b[0m         alert_text \u001b[38;5;241m=\u001b[39m value[\u001b[38;5;124m'\u001b[39m\u001b[38;5;124malert\u001b[39m\u001b[38;5;124m'\u001b[39m]\u001b[38;5;241m.\u001b[39mget(\u001b[38;5;124m'\u001b[39m\u001b[38;5;124mtext\u001b[39m\u001b[38;5;124m'\u001b[39m)\n\u001b[0;32m    246\u001b[0m     \u001b[38;5;28;01mraise\u001b[39;00m exception_class(message, screen, stacktrace, alert_text)  \u001b[38;5;66;03m# type: ignore[call-arg]  # mypy is not smart enough here\u001b[39;00m\n\u001b[1;32m--> 247\u001b[0m \u001b[38;5;28;01mraise\u001b[39;00m exception_class(message, screen, stacktrace)\n",
      "\u001b[1;31mNoSuchElementException\u001b[0m: Message: no such element: Unable to locate element: {\"method\":\"xpath\",\"selector\":\"//*[@id='pgl_basic_playoffs_sh']/div/ul/li[1]/div/ul/li[4]/button\"}\n  (Session info: chrome=103.0.5060.66)\nStacktrace:\nBacktrace:\n\tOrdinal0 [0x00CE6463+2188387]\n\tOrdinal0 [0x00C7E461+1762401]\n\tOrdinal0 [0x00B93D78+802168]\n\tOrdinal0 [0x00BC1880+989312]\n\tOrdinal0 [0x00BC1B1B+989979]\n\tOrdinal0 [0x00BEE912+1173778]\n\tOrdinal0 [0x00BDC824+1099812]\n\tOrdinal0 [0x00BECC22+1166370]\n\tOrdinal0 [0x00BDC5F6+1099254]\n\tOrdinal0 [0x00BB6BE0+945120]\n\tOrdinal0 [0x00BB7AD6+948950]\n\tGetHandleVerifier [0x00F871F2+2712546]\n\tGetHandleVerifier [0x00F7886D+2652765]\n\tGetHandleVerifier [0x00D7002A+520730]\n\tGetHandleVerifier [0x00D6EE06+516086]\n\tOrdinal0 [0x00C8468B+1787531]\n\tOrdinal0 [0x00C88E88+1805960]\n\tOrdinal0 [0x00C88F75+1806197]\n\tOrdinal0 [0x00C91DF1+1842673]\n\tBaseThreadInitThunk [0x768F6739+25]\n\tRtlGetFullPathName_UEx [0x77948FEF+1215]\n\tRtlGetFullPathName_UEx [0x77948FBD+1165]\n"
     ]
    }
   ],
   "source": [
    "getData(\"https://www.basketball-reference.com/players/j/jamesle01.html\")"
   ]
  },
  {
   "cell_type": "code",
   "execution_count": null,
   "id": "3dcc682c",
   "metadata": {},
   "outputs": [],
   "source": []
  }
 ],
 "metadata": {
  "kernelspec": {
   "display_name": "Python 3 (ipykernel)",
   "language": "python",
   "name": "python3"
  },
  "language_info": {
   "codemirror_mode": {
    "name": "ipython",
    "version": 3
   },
   "file_extension": ".py",
   "mimetype": "text/x-python",
   "name": "python",
   "nbconvert_exporter": "python",
   "pygments_lexer": "ipython3",
   "version": "3.9.5"
  }
 },
 "nbformat": 4,
 "nbformat_minor": 5
}
