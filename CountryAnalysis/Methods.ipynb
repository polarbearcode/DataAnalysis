{
 "cells": [
  {
   "cell_type": "code",
   "execution_count": 3,
   "id": "4e1d0e76",
   "metadata": {},
   "outputs": [],
   "source": [
    "import pandas as pd\n",
    "import os\n",
    "import unittest"
   ]
  },
  {
   "cell_type": "code",
   "execution_count": 4,
   "id": "9110202c",
   "metadata": {},
   "outputs": [],
   "source": [
    "pathToData = os.path.join(os.getcwd(), \"Data\")\n",
    "pathToGDPTable = os.path.join(pathToData, \"GDP Per Capita.xlsx\")\n",
    "pathToRanking = os.path.join(pathToData, \"World Innovation Index.csv\")"
   ]
  },
  {
   "cell_type": "code",
   "execution_count": 5,
   "id": "f34405e3",
   "metadata": {},
   "outputs": [],
   "source": [
    "def renameCountry(df, curName, newName):\n",
    "    \"\"\"\n",
    "        Change the country in innovation ranking dataset to it's name in the gdpPerCapita dataset.\n",
    "        Arguments:\n",
    "            df: The dataframe to edit\n",
    "            curName: The country's current name in the innovation ranking\n",
    "            newName: The country's name in the gdpPerCapita dataset\n",
    "    \"\"\"\n",
    "    df.loc[df['Country Name'] == curName] = newName"
   ]
  },
  {
   "cell_type": "code",
   "execution_count": 6,
   "id": "2832ddd7",
   "metadata": {},
   "outputs": [],
   "source": [
    "def chooseRanking(rank2019, rank2020):\n",
    "    \"\"\"\n",
    "        Choose the more recent of ranks.\n",
    "        rank2019: the rank in 2019\n",
    "        rank2020: the rank in 2020\n",
    "    \"\"\"\n",
    "    \n",
    "    if (not pd.isna(rank2020)):\n",
    "        return rank2020\n",
    "    elif(not pd.isna(rank2019)):\n",
    "        return rank2019\n",
    "    else:\n",
    "        return 200\n",
    "    \n",
    "def addRankingColumn(globalInnovationIndexRanking):\n",
    "    \"\"\"\n",
    "        Add a column to globalInnovationIndexRanking that gets the most recent ranking if it's available.\n",
    "    \"\"\"\n",
    "    globalInnovationIndexRanking['Ranking'] = [chooseRanking(twoRanks[0], twoRanks[1]) for twoRanks in zip(globalInnovationIndexRanking['2019'], globalInnovationIndexRanking['2020'])]"
   ]
  },
  {
   "cell_type": "code",
   "execution_count": 7,
   "id": "5057c582",
   "metadata": {},
   "outputs": [],
   "source": [
    "def cleanFootNoteCells(combinedDF, cellsToClean):\n",
    "    \"\"\"\n",
    "        Clean cells from the GDP table with footnotes. \n",
    "        Arguments:\n",
    "            combinedDF: the dataframe to edit\n",
    "            cellsToClean: a list of length three tuples of (country, column, actual_value)\n",
    "    \"\"\"\n",
    "    for c in cellsToClean:\n",
    "        combinedDF.loc[combinedDF['Country/Territory'] == c[0], c[1]] = c[2]"
   ]
  },
  {
   "cell_type": "code",
   "execution_count": 42,
   "id": "eea49684",
   "metadata": {},
   "outputs": [],
   "source": [
    "def makeValuesInts(df):\n",
    "    \"\"\"\n",
    "        Convert the GDP estimates to integer values\n",
    "    \"\"\"\n",
    "    for col in [\"IMF Estimate\", \"UN Estimate\", \"World Bank Estimate\"]:\n",
    "        df[col] = [str(value).replace(\",\", \"\") for value in df[col]]"
   ]
  },
  {
   "cell_type": "code",
   "execution_count": 9,
   "id": "e7c49125",
   "metadata": {},
   "outputs": [],
   "source": [
    "def mostRecentGDPEstimate(IMFEstimate, UNEstimate, WorldBankEstimate):\n",
    "    \"\"\"\n",
    "        Get the most recent GDP per capita estimate out of the three agencies. \n",
    "        Arguments will be tuples (estimate, year). \n",
    "        If all values are 0, return 0\n",
    "    \"\"\"\n",
    "    \n",
    "    orderedEstimates = sorted([IMFEstimate, UNEstimate, WorldBankEstimate], key=lambda x: (int(x[1]), int(x[0])))\n",
    "    return orderedEstimates[2][0]\n",
    "\n",
    "def createEstimateColumn(combinedDF):\n",
    "    \"\"\"\n",
    "        In the dataframe combinedDF, add a column that gives the most recent available GDP Per Capita estimate\n",
    "    \"\"\"\n",
    "    imfTuple = zip(combinedDF['IMF Estimate'], combinedDF['IMF Year'])\n",
    "    unTuple = zip(combinedDF['UN Estimate'], combinedDF['UN Year'])\n",
    "    wbTuple = zip(combinedDF['World Bank Estimate'], combinedDF['World Bank Year'])\n",
    "    combinedDF['GDP Per Capita'] = [mostRecentGDPEstimate(r[0], r[1], r[2]) for r in zip(imfTuple, unTuple, wbTuple)]"
   ]
  },
  {
   "cell_type": "code",
   "execution_count": 40,
   "id": "f2f3e6ed",
   "metadata": {},
   "outputs": [],
   "source": [
    "class TestRename(unittest.TestCase):\n",
    "    \n",
    "    def test_rename(self):\n",
    "        rankDF = pd.read_csv(pathToRanking)\n",
    "        renameCountry(rankDF, \"Aruba\", \"Arb\")\n",
    "        self.assertEqual(rankDF.iloc[1][\"Country Name\"], \"Arb\")\n",
    "        \n",
    "    def testAddRankingColumn(self):\n",
    "        rankDF = pd.read_csv(pathToRanking)\n",
    "        rankDF = rankDF.loc[(rankDF['Indicator'] == \"Global Innovation Index\") \n",
    "                      & (rankDF['Subindicator Type'] == \"Rank\")]\n",
    "        addRankingColumn(rankDF)\n",
    "        finlandRanking = rankDF.loc[rankDF['Country Name'] == \"Finland\",'Ranking'].iat[0]\n",
    "        self.assertEqual(finlandRanking, 7.0)    \n",
    "    def testClean(self):\n",
    "        gdpDF = pd.read_excel(pathToGDPTable)\n",
    "        cleanFootNoteCells(gdpDF,  [(\"Tanzania\", \"UN Year\", \"2020\")])\n",
    "        self.assertEqual(gdpDF.loc[gdpDF[\"Country/Territory\"] == \"Tanzania\", \"UN Year\"].iat[0], \"2020\")\n",
    "        \n",
    "    def testCleanValues(self):\n",
    "        gdpDF = pd.read_excel(pathToGDPTable)\n",
    "        makeValuesInts(gdpDF)\n",
    "        self.assertEqual(gdpDF.loc[gdpDF['Country/Territory'] == \"Luxembourg\", \"World Bank Estimate\"].iat[0],\n",
    "                        \"115874\")\n",
    "        self.assertEqual(gdpDF.loc[gdpDF['Country/Territory'] == \"Canada\", \"IMF Estimate\"].iat[0],\n",
    "                        \"57406\")\n",
    "    \n",
    "    def testEstimateColumn(self):\n",
    "        gdpDF = pd.read_excel(pathToGDPTable)[:7]\n",
    "        makeValuesInts(gdpDF)\n",
    "        gdpDF[['IMF Estimate', 'UN Estimate', 'World Bank Estimate']] = gdpDF[['IMF Estimate', 'UN Estimate', 'World Bank Estimate']].apply(pd.to_numeric)\n",
    "        createEstimateColumn(gdpDF)\n",
    "        self.assertEqual(gdpDF.loc[gdpDF[\"Country/Territory\"] == \"Cayman Islands\", \"GDP Per Capita\"].iat[0], 95191)    "
   ]
  },
  {
   "cell_type": "code",
   "execution_count": 43,
   "id": "ca32848f",
   "metadata": {},
   "outputs": [
    {
     "name": "stderr",
     "output_type": "stream",
     "text": [
      "testAddRankingColumn (__main__.TestRename) ... ok\n",
      "testClean (__main__.TestRename) ... ok\n",
      "testCleanValues (__main__.TestRename) ... ok\n",
      "testEstimateColumn (__main__.TestRename) ... ok\n",
      "test_rename (__main__.TestRename) ... ok\n",
      "\n",
      "----------------------------------------------------------------------\n",
      "Ran 5 tests in 0.866s\n",
      "\n",
      "OK\n"
     ]
    },
    {
     "data": {
      "text/plain": [
       "<unittest.main.TestProgram at 0x1ef9c815b80>"
      ]
     },
     "execution_count": 43,
     "metadata": {},
     "output_type": "execute_result"
    }
   ],
   "source": [
    "unittest.main(argv=[''], verbosity=2, exit=False)"
   ]
  },
  {
   "cell_type": "code",
   "execution_count": null,
   "id": "bccb5524",
   "metadata": {},
   "outputs": [],
   "source": []
  }
 ],
 "metadata": {
  "kernelspec": {
   "display_name": "Python 3 (ipykernel)",
   "language": "python",
   "name": "python3"
  },
  "language_info": {
   "codemirror_mode": {
    "name": "ipython",
    "version": 3
   },
   "file_extension": ".py",
   "mimetype": "text/x-python",
   "name": "python",
   "nbconvert_exporter": "python",
   "pygments_lexer": "ipython3",
   "version": "3.9.5"
  }
 },
 "nbformat": 4,
 "nbformat_minor": 5
}
