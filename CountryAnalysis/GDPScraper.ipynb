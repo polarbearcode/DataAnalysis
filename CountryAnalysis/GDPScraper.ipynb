{
 "cells": [
  {
   "cell_type": "code",
   "execution_count": 17,
   "id": "9a9d14bb",
   "metadata": {},
   "outputs": [],
   "source": [
    "from bs4 import BeautifulSoup\n",
    "from selenium import webdriver\n",
    "from selenium.webdriver.chrome.service import Service\n",
    "from webdriver_manager.chrome import ChromeDriverManager\n",
    "from selenium.webdriver.common.by import By\n",
    "from selenium.webdriver.support.ui import WebDriverWait\n",
    "from selenium.webdriver.support import expected_conditions as EC \n",
    "import pandas as pd\n",
    "import time\n",
    "import os\n",
    "import shutil\n",
    "import unittest"
   ]
  },
  {
   "cell_type": "code",
   "execution_count": 2,
   "id": "01bd4c47",
   "metadata": {},
   "outputs": [],
   "source": [
    "def getHTML(url):\n",
    "    driver = webdriver.Chrome(service =Service(ChromeDriverManager().install()))\n",
    "    driver.get(url)\n",
    "    with open(\"gdpPage.html\", \"w\", encoding=\"utf-8\") as f:\n",
    "        f.write(driver.page_source)"
   ]
  },
  {
   "cell_type": "code",
   "execution_count": 3,
   "id": "9c6b587b",
   "metadata": {},
   "outputs": [],
   "source": [
    "# url = \"https://en.wikipedia.org/wiki/List_of_countries_by_GDP_(nominal)_per_capita\"\n",
    "# getHTML(url)"
   ]
  },
  {
   "cell_type": "code",
   "execution_count": 4,
   "id": "8baa58e6",
   "metadata": {},
   "outputs": [],
   "source": [
    "# pageFile =  open(\"gdpPage.html\", encoding=\"utf-8\")\n",
    "# gdpPage = pageFile.read()\n",
    "# soup = BeautifulSoup(gdpPage,'html.parser')"
   ]
  },
  {
   "cell_type": "code",
   "execution_count": 6,
   "id": "a1648193",
   "metadata": {},
   "outputs": [
    {
     "name": "stdout",
     "output_type": "stream",
     "text": [
      "None\n",
      "['wikitable', 'sortable', 'static-row-numbers', 'plainrowheaders', 'srn-white-background']\n",
      "['nowraplinks', 'mw-collapsible', 'uncollapsed', 'navbox-inner']\n",
      "['nowraplinks', 'hlist', 'mw-collapsible', 'autocollapse', 'navbox-inner']\n",
      "['nowraplinks', 'navbox-subgroup']\n",
      "['nowraplinks', 'mw-collapsible', 'autocollapse', 'navbox-inner']\n"
     ]
    }
   ],
   "source": [
    "# table = soup.find_all(\"table\")\n",
    "# for t in table:\n",
    "#     print(t.get(\"class\"))"
   ]
  },
  {
   "cell_type": "code",
   "execution_count": 7,
   "id": "5f4a1b77",
   "metadata": {},
   "outputs": [],
   "source": [
    "def getTable(htmlFile):\n",
    "    driver = webdriver.Chrome(service =Service(ChromeDriverManager().install()))\n",
    "    driver.get(htmlFile)\n",
    "    gdpTable = driver.find_element(By.XPATH, \"//*[@id='mw-content-text']/div[1]/table\")\n",
    "    print(driver.page_source)   "
   ]
  },
  {
   "cell_type": "code",
   "execution_count": 8,
   "id": "22823800",
   "metadata": {},
   "outputs": [],
   "source": [
    "def cleanCountryName(text):\n",
    "    return text[:len(text) - 2]"
   ]
  },
  {
   "cell_type": "code",
   "execution_count": 9,
   "id": "838b363a",
   "metadata": {},
   "outputs": [],
   "source": [
    "def putInEstimate(curRow, infoDictionary, agency, colIndex):\n",
    "    \"\"\"\n",
    "        Put GDP estimate and year from the agency into the corresponding info dictionary.\n",
    "        If there was no estimate for that agency, insert (0, 0).\n",
    "        Arguments:\n",
    "            curRow: The current <tr> element\n",
    "            infoDictionary: dictionary to put the information into\n",
    "            agency: \"IMF\", \"UN\", or \"World Bank\"\n",
    "            colIndex: the current column\n",
    "        return the column index - will be colIndex + 1 if no estimate, +2 if there was an estimate\n",
    "    \"\"\"\n",
    "    keyToPutInfo = agency + \" Estimate\"\n",
    "    \n",
    "    if curRow[colIndex].has_attr('colspan'):\n",
    "        infoDictionary[keyToPutInfo] = 0\n",
    "        infoDictionary[agency + \" Year\"] = 0\n",
    "        return colIndex + 1\n",
    "    else:\n",
    "        infoDictionary[keyToPutInfo] = curRow[colIndex].text\n",
    "        infoDictionary[agency + \" Year\"] = curRow[colIndex + 1].text.split()[0]\n",
    "        return colIndex + 2"
   ]
  },
  {
   "cell_type": "code",
   "execution_count": 25,
   "id": "17c3d3e6",
   "metadata": {},
   "outputs": [],
   "source": [
    "pageFile =  open(\"gdpPage.html\", encoding=\"utf-8\")\n",
    "gdpPage = pageFile.read()\n",
    "soup = BeautifulSoup(gdpPage,'html.parser')\n",
    "\n",
    "\n",
    "def createCountryDF():\n",
    "    \"\"\"\n",
    "        Create and return the Wikipedia GDP Per Capita table as a pandas dataframe. \n",
    "    \"\"\"\n",
    "    pageFile =  open(\"gdpPage.html\", encoding=\"utf-8\")\n",
    "    gdpPage = pageFile.read()\n",
    "    soup = BeautifulSoup(gdpPage,'html.parser')\n",
    "    gdpTable = soup.find(\"table\", class_=\"wikitable sortable static-row-numbers plainrowheaders srn-white-background\")\n",
    "    gdpTableData = gdpTable.find(\"tbody\")\n",
    "    gdpRows = gdpTableData.find_all(\"tr\")\n",
    "    columns = [\"Country/Territory\", \"UN Region\", \"IMF Estimate\", \" IMF Year\", \"UN Estimate\", \"UN Year\",\n",
    "           \"World Bank Estimate\", \" World Bank Year\" ]\n",
    "    countryDF = pd.DataFrame(columns=columns)\n",
    "\n",
    "    pdRow = 0;\n",
    "\n",
    "    for i in range(2,len(gdpRows)):\n",
    "        infoDictionary = {}\n",
    "\n",
    "        r = gdpRows[i].find_all([\"td\"])\n",
    "        if (len(r) != 0):\n",
    "            infoDictionary['Country/Territory'] = cleanCountryName(r[0].find(\"a\").text)\n",
    "            infoDictionary['UN Region'] = r[1].text\n",
    "            colIndex = 2\n",
    "            agencies = [\"IMF\", \"UN\", \"World Bank\"]\n",
    "            for agency in agencies:\n",
    "                colIndex = putInEstimate(r, infoDictionary, agency, colIndex)\n",
    "            countryDF.loc[len(countryDF.index)] = [infoDictionary[k] for k, v in infoDictionary.items()]\n",
    "    return countryDF          "
   ]
  },
  {
   "cell_type": "code",
   "execution_count": 30,
   "id": "f09b1343",
   "metadata": {},
   "outputs": [],
   "source": [
    "gdpPerCapitaDF = createCountryDF()\n",
    "gdpPerCapitaDF.to_excel(os.path.join(os.getcwd(), \"Data\", \"GDP Per Capita.xlsx\"))\n"
   ]
  },
  {
   "cell_type": "code",
   "execution_count": 29,
   "id": "004d9afd",
   "metadata": {},
   "outputs": [
    {
     "name": "stderr",
     "output_type": "stream",
     "text": [
      "test_createCountryDF (__main__.TestGDPPerCapita) ... C:\\Users\\14159\\AppData\\Local\\Temp\\ipykernel_33728\\41093741.py:4: ResourceWarning: unclosed file <_io.TextIOWrapper name='gdpPage.html' mode='r' encoding='utf-8'>\n",
      "  df = createCountryDF()\n",
      "ResourceWarning: Enable tracemalloc to get the object allocation traceback\n",
      "ok\n",
      "\n",
      "----------------------------------------------------------------------\n",
      "Ran 1 test in 1.187s\n",
      "\n",
      "OK\n"
     ]
    },
    {
     "data": {
      "text/plain": [
       "<unittest.main.TestProgram at 0x1755ab02a00>"
      ]
     },
     "execution_count": 29,
     "metadata": {},
     "output_type": "execute_result"
    }
   ],
   "source": [
    "class TestGDPPerCapita(unittest.TestCase):\n",
    "    \n",
    "    def test_createCountryDF(self):\n",
    "        df = createCountryDF()\n",
    "        self.assertEqual(df.iloc[12][\"UN Estimate\"], \"63,644\")\n",
    "unittest.main(argv=[''], verbosity=2, exit=False)\n",
    "        "
   ]
  },
  {
   "cell_type": "code",
   "execution_count": null,
   "id": "1d549806",
   "metadata": {},
   "outputs": [],
   "source": []
  }
 ],
 "metadata": {
  "kernelspec": {
   "display_name": "Python 3 (ipykernel)",
   "language": "python",
   "name": "python3"
  },
  "language_info": {
   "codemirror_mode": {
    "name": "ipython",
    "version": 3
   },
   "file_extension": ".py",
   "mimetype": "text/x-python",
   "name": "python",
   "nbconvert_exporter": "python",
   "pygments_lexer": "ipython3",
   "version": "3.9.5"
  }
 },
 "nbformat": 4,
 "nbformat_minor": 5
}
