{
 "cells": [
  {
   "cell_type": "markdown",
   "id": "85cbb917",
   "metadata": {},
   "source": [
    "# Find the Area Harvested for Crops"
   ]
  },
  {
   "cell_type": "code",
   "execution_count": 40,
   "id": "17570726",
   "metadata": {},
   "outputs": [],
   "source": [
    "import pandas as pd\n",
    "import os"
   ]
  },
  {
   "cell_type": "code",
   "execution_count": 41,
   "id": "5066ef2d",
   "metadata": {},
   "outputs": [
    {
     "name": "stderr",
     "output_type": "stream",
     "text": [
      "test_prepData (__main__.TestDataPrep) ... ok\n",
      "test_withNA (__main__.TestDataPrep) ... ok\n",
      "\n",
      "----------------------------------------------------------------------\n",
      "Ran 2 tests in 0.035s\n",
      "\n",
      "OK\n"
     ]
    }
   ],
   "source": [
    "%run Methods.ipynb"
   ]
  },
  {
   "cell_type": "code",
   "execution_count": 42,
   "id": "f61f40c8",
   "metadata": {},
   "outputs": [],
   "source": [
    "pathToData = os.path.join(os.getcwd(), \"Data\", \"Production_Crops_Livestock_E_All_Data.csv\")\n",
    "agData = pd.read_csv(pathToData, encoding=\"latin-1\")"
   ]
  },
  {
   "cell_type": "markdown",
   "id": "bb32de17",
   "metadata": {},
   "source": [
    "Does each item have area harvested element to it? "
   ]
  },
  {
   "cell_type": "code",
   "execution_count": 43,
   "id": "e27ec07b",
   "metadata": {},
   "outputs": [],
   "source": [
    "itemCol = agData['Item']\n",
    "elementCol = agData['Element']\n",
    "itemToElementMap = {}\n",
    "\n",
    "for item, element in zip(itemCol, elementCol):\n",
    "    curSet = itemToElementMap.get(item, set())\n",
    "    curSet.add(element)\n",
    "    itemToElementMap[item] = curSet"
   ]
  },
  {
   "cell_type": "markdown",
   "id": "269732d9",
   "metadata": {},
   "source": [
    "Not every item will have yield or area harvested data. Pick out items with area harvested. "
   ]
  },
  {
   "cell_type": "code",
   "execution_count": 44,
   "id": "ed02a589",
   "metadata": {},
   "outputs": [
    {
     "name": "stdout",
     "output_type": "stream",
     "text": [
      "{'Fruit, pome nes', 'Chillies and peppers, green', 'Oats', 'Jojoba seed', 'Carrots and turnips', 'Mangoes, mangosteens, guavas', 'Bananas', 'Carobs', 'Persimmons', 'Walnuts, with shell', 'Peas, green', 'Treenuts, Total', 'Buckwheat', 'Cereals nes', 'Yams', 'Flax fibre and tow', 'Fruit, tropical fresh nes', 'Castor oil seed', 'Cereals, Total', 'Soybeans', 'Beans, dry', 'Mushrooms and truffles', 'Tea', 'Sugar Crops Primary', 'Oil palm fruit', 'Citrus Fruit, Total', 'Plantains and others', 'Cloves', 'Chestnut', 'Chicory roots', 'Rye', 'Pulses nes', 'Roots and tubers nes', 'Apples', 'Pyrethrum, dried', 'Broad beans, horse beans, dry', 'Bastfibres, other', 'Grapefruit (inc. pomelos)', 'Maize', 'Vegetables, fresh nes', 'Tomatoes', 'Tobacco, unmanufactured', 'Sunflower seed', 'Cauliflowers and broccoli', 'Cucumbers and gherkins', 'Hempseed', 'Roots and Tubers, Total', 'Watermelons', 'Vanilla', 'Taro (cocoyam)', 'Cranberries', 'Peppermint', 'Hops', 'Rice, paddy', 'Melons, other (inc.cantaloupes)', 'Lentils', 'Onions, shallots, green', 'Currants', 'Quinces', 'Tangerines, mandarins, clementines, satsumas', 'Vetches', 'Onions, dry', 'Pineapples', 'Fibre crops nes', 'Areca nuts', 'Fruit Primary', 'Vegetables, leguminous nes', 'Sugar cane', 'Seed cotton', 'Potatoes', 'Grapes', 'Asparagus', 'Coir', 'Cassava', 'Strawberries', 'Pears', 'Triticale', 'Sweet potatoes', 'Berries nes', 'Oranges', 'Tallowtree seed', 'Sesame seed', 'Linseed', 'Sorghum', 'Sugar crops nes', 'Brazil nuts, with shell', 'Jute', 'Pulses, Total', 'Eggplants (aubergines)', 'Kiwi fruit', 'Artichokes', 'Quinoa', 'Ramie', 'Tung nuts', 'Poppy seed', 'Fruit, stone nes', 'Avocados', 'Cherries, sour', 'Sisal', 'Rapeseed', 'Ginger', 'Safflower seed', 'Yautia (cocoyam)', 'Fruit, fresh nes', 'Pistachios', 'Grain, mixed', 'Pepper (piper spp.)', 'Cherries', 'Vegetables Primary', 'Blueberries', 'Hemp tow waste', 'Barley', 'Spices nes', 'Pumpkins, squash and gourds', 'Almonds, with shell', 'Fruit, citrus nes', 'Dates', 'Lemons and limes', 'Cassava leaves', 'Figs', 'Maize, green', 'Groundnuts, with shell', 'Gooseberries', 'Spinach', 'Papayas', 'Beans, green', 'Canary seed', 'Leeks, other alliaceous vegetables', 'Cocoa, beans', 'Nutmeg, mace and cardamoms', 'Garlic', 'Maté', 'Melonseed', 'Kapok fruit', 'Lettuce and chicory', 'Chillies and peppers, dry', 'Coconuts', 'Cashew nuts, with shell', 'Hazelnuts, with shell', 'Millet', 'Cow peas, dry', 'Oilseeds nes', 'Plums and sloes', 'String beans', 'Manila fibre (abaca)', 'Karite nuts (sheanuts)', 'Bambara beans', 'Lupins', 'Sugar beet', 'Agave fibres nes', 'Kola nuts', 'Fonio', 'Nuts nes', 'Rubber, natural', 'Peaches and nectarines', 'Cinnamon (cannella)', 'Okra', 'Cabbages and other brassicas', 'Cashewapple', 'Apricots', 'Peas, dry', 'Coffee, green', 'Olives', 'Wheat', 'Chick peas', 'Pigeon peas', 'Mustard seed', 'Anise, badian, fennel, coriander', 'Raspberries'}\n"
     ]
    }
   ],
   "source": [
    "itemsWithArea = set()\n",
    "for item in itemToElementMap.keys():\n",
    "    elements = itemToElementMap[item]\n",
    "    if 'Area harvested' in elements:\n",
    "        itemsWithArea.add(item)\n",
    "print(itemsWithArea)"
   ]
  },
  {
   "cell_type": "code",
   "execution_count": 45,
   "id": "84ef6867",
   "metadata": {},
   "outputs": [
    {
     "data": {
      "text/html": [
       "<div>\n",
       "<style scoped>\n",
       "    .dataframe tbody tr th:only-of-type {\n",
       "        vertical-align: middle;\n",
       "    }\n",
       "\n",
       "    .dataframe tbody tr th {\n",
       "        vertical-align: top;\n",
       "    }\n",
       "\n",
       "    .dataframe thead th {\n",
       "        text-align: right;\n",
       "    }\n",
       "</style>\n",
       "<table border=\"1\" class=\"dataframe\">\n",
       "  <thead>\n",
       "    <tr style=\"text-align: right;\">\n",
       "      <th></th>\n",
       "      <th>Area Code</th>\n",
       "      <th>Area</th>\n",
       "      <th>Item</th>\n",
       "      <th>Element</th>\n",
       "      <th>Unit</th>\n",
       "      <th>Year</th>\n",
       "      <th>Amount</th>\n",
       "    </tr>\n",
       "  </thead>\n",
       "  <tbody>\n",
       "    <tr>\n",
       "      <th>0</th>\n",
       "      <td>2</td>\n",
       "      <td>Afghanistan</td>\n",
       "      <td>Oranges</td>\n",
       "      <td>Area harvested</td>\n",
       "      <td>ha</td>\n",
       "      <td>Y2000</td>\n",
       "      <td>1523.0</td>\n",
       "    </tr>\n",
       "    <tr>\n",
       "      <th>1</th>\n",
       "      <td>3</td>\n",
       "      <td>Albania</td>\n",
       "      <td>Oranges</td>\n",
       "      <td>Area harvested</td>\n",
       "      <td>ha</td>\n",
       "      <td>Y2000</td>\n",
       "      <td>489.0</td>\n",
       "    </tr>\n",
       "    <tr>\n",
       "      <th>2</th>\n",
       "      <td>4</td>\n",
       "      <td>Algeria</td>\n",
       "      <td>Oranges</td>\n",
       "      <td>Area harvested</td>\n",
       "      <td>ha</td>\n",
       "      <td>Y2000</td>\n",
       "      <td>27180.0</td>\n",
       "    </tr>\n",
       "    <tr>\n",
       "      <th>3</th>\n",
       "      <td>9</td>\n",
       "      <td>Argentina</td>\n",
       "      <td>Oranges</td>\n",
       "      <td>Area harvested</td>\n",
       "      <td>ha</td>\n",
       "      <td>Y2000</td>\n",
       "      <td>49173.0</td>\n",
       "    </tr>\n",
       "    <tr>\n",
       "      <th>4</th>\n",
       "      <td>10</td>\n",
       "      <td>Australia</td>\n",
       "      <td>Oranges</td>\n",
       "      <td>Area harvested</td>\n",
       "      <td>ha</td>\n",
       "      <td>Y2000</td>\n",
       "      <td>27000.0</td>\n",
       "    </tr>\n",
       "  </tbody>\n",
       "</table>\n",
       "</div>"
      ],
      "text/plain": [
       "   Area Code         Area     Item         Element Unit   Year   Amount\n",
       "0          2  Afghanistan  Oranges  Area harvested   ha  Y2000   1523.0\n",
       "1          3      Albania  Oranges  Area harvested   ha  Y2000    489.0\n",
       "2          4      Algeria  Oranges  Area harvested   ha  Y2000  27180.0\n",
       "3          9    Argentina  Oranges  Area harvested   ha  Y2000  49173.0\n",
       "4         10    Australia  Oranges  Area harvested   ha  Y2000  27000.0"
      ]
     },
     "execution_count": 45,
     "metadata": {},
     "output_type": "execute_result"
    }
   ],
   "source": [
    "agDataArea = prepData(\"Oranges\", agData, \"Area harvested\", useTopX = False)[0]\n",
    "agDataArea.head()"
   ]
  },
  {
   "cell_type": "code",
   "execution_count": 46,
   "id": "b1a106f6",
   "metadata": {},
   "outputs": [
    {
     "ename": "KeyError",
     "evalue": "\"['Y2000', 'Y2001', 'Y2002', 'Y2003', 'Y2004', 'Y2005', 'Y2006', 'Y2007', 'Y2008', 'Y2009', 'Y2010', 'Y2011', 'Y2012', 'Y2013', 'Y2014', 'Y2015', 'Y2016', 'Y2017', 'Y2018', 'Y2019', 'Y2020'] not in index\"",
     "output_type": "error",
     "traceback": [
      "\u001b[1;31m---------------------------------------------------------------------------\u001b[0m",
      "\u001b[1;31mKeyError\u001b[0m                                  Traceback (most recent call last)",
      "Input \u001b[1;32mIn [46]\u001b[0m, in \u001b[0;36m<cell line: 1>\u001b[1;34m()\u001b[0m\n\u001b[1;32m----> 1\u001b[0m \u001b[43mplotProductionCrop\u001b[49m\u001b[43m(\u001b[49m\u001b[43magDataArea\u001b[49m\u001b[43m,\u001b[49m\u001b[43m \u001b[49m\u001b[38;5;124;43m\"\u001b[39;49m\u001b[38;5;124;43mArea Harvested\u001b[39;49m\u001b[38;5;124;43m\"\u001b[39;49m\u001b[43m,\u001b[49m\u001b[43m \u001b[49m\u001b[38;5;124;43m\"\u001b[39;49m\u001b[38;5;124;43mOranges\u001b[39;49m\u001b[38;5;124;43m\"\u001b[39;49m\u001b[43m,\u001b[49m\u001b[43m \u001b[49m\u001b[38;5;241;43m2000\u001b[39;49m\u001b[43m,\u001b[49m\u001b[43m \u001b[49m\u001b[38;5;241;43m2020\u001b[39;49m\u001b[43m,\u001b[49m\u001b[43m \u001b[49m\u001b[38;5;241;43m5\u001b[39;49m\u001b[43m,\u001b[49m\u001b[43m \u001b[49m\u001b[43mcreatePlotFunc\u001b[49m\u001b[38;5;241;43m=\u001b[39;49m\u001b[43mcreateStackPlot\u001b[49m\u001b[43m)\u001b[49m\n",
      "File \u001b[1;32m~\\AppData\\Local\\Temp\\ipykernel_152892\\3975104891.py:97\u001b[0m, in \u001b[0;36mplotProductionCrop\u001b[1;34m(df, element, item, y1, y2, topX, createPlotFunc, keepCols, useTopX)\u001b[0m\n\u001b[0;32m     81\u001b[0m \u001b[38;5;28;01mdef\u001b[39;00m \u001b[38;5;21mplotProductionCrop\u001b[39m(df, element, item, y1, y2, topX, createPlotFunc, \n\u001b[0;32m     82\u001b[0m                        keepCols \u001b[38;5;241m=\u001b[39m [\u001b[38;5;124m\"\u001b[39m\u001b[38;5;124mArea Code\u001b[39m\u001b[38;5;124m\"\u001b[39m, \u001b[38;5;124m\"\u001b[39m\u001b[38;5;124mArea\u001b[39m\u001b[38;5;124m\"\u001b[39m, \u001b[38;5;124m\"\u001b[39m\u001b[38;5;124mItem\u001b[39m\u001b[38;5;124m\"\u001b[39m, \u001b[38;5;124m\"\u001b[39m\u001b[38;5;124mElement\u001b[39m\u001b[38;5;124m\"\u001b[39m, \u001b[38;5;124m\"\u001b[39m\u001b[38;5;124mUnit\u001b[39m\u001b[38;5;124m\"\u001b[39m], useTopX \u001b[38;5;241m=\u001b[39m \u001b[38;5;28;01mTrue\u001b[39;00m):\n\u001b[0;32m     83\u001b[0m     \u001b[38;5;124;03m\"\"\"\u001b[39;00m\n\u001b[0;32m     84\u001b[0m \u001b[38;5;124;03m        Put all the methods together and \u001b[39;00m\n\u001b[0;32m     85\u001b[0m \u001b[38;5;124;03m        create a plot for the item\u001b[39;00m\n\u001b[1;32m   (...)\u001b[0m\n\u001b[0;32m     95\u001b[0m \u001b[38;5;124;03m            createPlotFunc: a function to create the plot like createStackPlot\u001b[39;00m\n\u001b[0;32m     96\u001b[0m \u001b[38;5;124;03m    \"\"\"\u001b[39;00m\n\u001b[1;32m---> 97\u001b[0m     preppedInfo \u001b[38;5;241m=\u001b[39m \u001b[43mprepData\u001b[49m\u001b[43m(\u001b[49m\u001b[43mitem\u001b[49m\u001b[43m,\u001b[49m\u001b[43m \u001b[49m\u001b[43mdf\u001b[49m\u001b[43m,\u001b[49m\u001b[43m \u001b[49m\u001b[43melement\u001b[49m\u001b[43m,\u001b[49m\u001b[43m \u001b[49m\u001b[43my1\u001b[49m\u001b[43m,\u001b[49m\u001b[43m \u001b[49m\u001b[43my2\u001b[49m\u001b[43m,\u001b[49m\u001b[43m \u001b[49m\u001b[43mkeepCols\u001b[49m\u001b[43m,\u001b[49m\u001b[43mtopX\u001b[49m\u001b[43m,\u001b[49m\u001b[43m \u001b[49m\u001b[43museTopX\u001b[49m\u001b[38;5;241;43m=\u001b[39;49m\u001b[43museTopX\u001b[49m\u001b[43m)\u001b[49m\n\u001b[0;32m     98\u001b[0m     df \u001b[38;5;241m=\u001b[39m preppedInfo[\u001b[38;5;241m0\u001b[39m]\n\u001b[0;32m     99\u001b[0m     unit \u001b[38;5;241m=\u001b[39m preppedInfo[\u001b[38;5;241m1\u001b[39m]\n",
      "File \u001b[1;32m~\\AppData\\Local\\Temp\\ipykernel_152892\\665105844.py:168\u001b[0m, in \u001b[0;36mprepData\u001b[1;34m(item, df, element, y1, y2, keepCols, topX, useTopX)\u001b[0m\n\u001b[0;32m    156\u001b[0m \u001b[38;5;124;03m\"\"\"\u001b[39;00m\n\u001b[0;32m    157\u001b[0m \u001b[38;5;124;03m    Prepare the data for plotting.\u001b[39;00m\n\u001b[0;32m    158\u001b[0m \u001b[38;5;124;03m    Arguments:\u001b[39;00m\n\u001b[1;32m   (...)\u001b[0m\n\u001b[0;32m    165\u001b[0m \u001b[38;5;124;03m    Returns a tuple of the prepped data frame and the unit\u001b[39;00m\n\u001b[0;32m    166\u001b[0m \u001b[38;5;124;03m\"\"\"\u001b[39;00m\n\u001b[0;32m    167\u001b[0m df \u001b[38;5;241m=\u001b[39m setElement(df, element)\n\u001b[1;32m--> 168\u001b[0m df \u001b[38;5;241m=\u001b[39m \u001b[43msubsetAgData\u001b[49m\u001b[43m(\u001b[49m\u001b[43mdf\u001b[49m\u001b[43m,\u001b[49m\u001b[43m \u001b[49m\u001b[43mitem\u001b[49m\u001b[43m,\u001b[49m\u001b[43m \u001b[49m\u001b[43my1\u001b[49m\u001b[43m,\u001b[49m\u001b[43m \u001b[49m\u001b[43my2\u001b[49m\u001b[43m,\u001b[49m\u001b[43m \u001b[49m\u001b[43mkeepCols\u001b[49m\u001b[43m)\u001b[49m\n\u001b[0;32m    169\u001b[0m unit \u001b[38;5;241m=\u001b[39m getItemUnit(df)\n\u001b[0;32m    170\u001b[0m df \u001b[38;5;241m=\u001b[39m dropRegionRows(df)\n",
      "File \u001b[1;32m~\\AppData\\Local\\Temp\\ipykernel_152892\\665105844.py:84\u001b[0m, in \u001b[0;36msubsetAgData\u001b[1;34m(df, crop, y1, y2, keepCols)\u001b[0m\n\u001b[0;32m     72\u001b[0m \u001b[38;5;124;03m\"\"\"\u001b[39;00m\n\u001b[0;32m     73\u001b[0m \u001b[38;5;124;03m    Get a subset of the agricultre data for the production \u001b[39;00m\n\u001b[0;32m     74\u001b[0m \u001b[38;5;124;03m    of the crop between year y1 and year y2. \u001b[39;00m\n\u001b[1;32m   (...)\u001b[0m\n\u001b[0;32m     81\u001b[0m \u001b[38;5;124;03m    Return: a subset of the agricultre dataframe\u001b[39;00m\n\u001b[0;32m     82\u001b[0m \u001b[38;5;124;03m\"\"\"\u001b[39;00m\n\u001b[0;32m     83\u001b[0m dfSubset \u001b[38;5;241m=\u001b[39m cropData(df, crop)\n\u001b[1;32m---> 84\u001b[0m \u001b[38;5;28;01mreturn\u001b[39;00m \u001b[43mgetYearData\u001b[49m\u001b[43m(\u001b[49m\u001b[43mdfSubset\u001b[49m\u001b[43m,\u001b[49m\u001b[43m \u001b[49m\u001b[43my1\u001b[49m\u001b[43m,\u001b[49m\u001b[43m \u001b[49m\u001b[43my2\u001b[49m\u001b[43m,\u001b[49m\u001b[43m \u001b[49m\u001b[43mkeepCols\u001b[49m\u001b[43m)\u001b[49m\n",
      "File \u001b[1;32m~\\AppData\\Local\\Temp\\ipykernel_152892\\665105844.py:69\u001b[0m, in \u001b[0;36mgetYearData\u001b[1;34m(df, year1, year2, keepCols)\u001b[0m\n\u001b[0;32m     67\u001b[0m getCols \u001b[38;5;241m=\u001b[39m copy\u001b[38;5;241m.\u001b[39mdeepcopy(keepCols)\n\u001b[0;32m     68\u001b[0m getCols\u001b[38;5;241m.\u001b[39mextend(createYearList(year1, year2))\n\u001b[1;32m---> 69\u001b[0m \u001b[38;5;28;01mreturn\u001b[39;00m \u001b[43mdf\u001b[49m\u001b[43m[\u001b[49m\u001b[43mgetCols\u001b[49m\u001b[43m]\u001b[49m\n",
      "File \u001b[1;32mc:\\users\\14159\\appdata\\local\\programs\\python\\python39\\lib\\site-packages\\pandas\\core\\frame.py:3511\u001b[0m, in \u001b[0;36mDataFrame.__getitem__\u001b[1;34m(self, key)\u001b[0m\n\u001b[0;32m   3509\u001b[0m     \u001b[38;5;28;01mif\u001b[39;00m is_iterator(key):\n\u001b[0;32m   3510\u001b[0m         key \u001b[38;5;241m=\u001b[39m \u001b[38;5;28mlist\u001b[39m(key)\n\u001b[1;32m-> 3511\u001b[0m     indexer \u001b[38;5;241m=\u001b[39m \u001b[38;5;28;43mself\u001b[39;49m\u001b[38;5;241;43m.\u001b[39;49m\u001b[43mcolumns\u001b[49m\u001b[38;5;241;43m.\u001b[39;49m\u001b[43m_get_indexer_strict\u001b[49m\u001b[43m(\u001b[49m\u001b[43mkey\u001b[49m\u001b[43m,\u001b[49m\u001b[43m \u001b[49m\u001b[38;5;124;43m\"\u001b[39;49m\u001b[38;5;124;43mcolumns\u001b[39;49m\u001b[38;5;124;43m\"\u001b[39;49m\u001b[43m)\u001b[49m[\u001b[38;5;241m1\u001b[39m]\n\u001b[0;32m   3513\u001b[0m \u001b[38;5;66;03m# take() does not accept boolean indexers\u001b[39;00m\n\u001b[0;32m   3514\u001b[0m \u001b[38;5;28;01mif\u001b[39;00m \u001b[38;5;28mgetattr\u001b[39m(indexer, \u001b[38;5;124m\"\u001b[39m\u001b[38;5;124mdtype\u001b[39m\u001b[38;5;124m\"\u001b[39m, \u001b[38;5;28;01mNone\u001b[39;00m) \u001b[38;5;241m==\u001b[39m \u001b[38;5;28mbool\u001b[39m:\n",
      "File \u001b[1;32mc:\\users\\14159\\appdata\\local\\programs\\python\\python39\\lib\\site-packages\\pandas\\core\\indexes\\base.py:5782\u001b[0m, in \u001b[0;36mIndex._get_indexer_strict\u001b[1;34m(self, key, axis_name)\u001b[0m\n\u001b[0;32m   5779\u001b[0m \u001b[38;5;28;01melse\u001b[39;00m:\n\u001b[0;32m   5780\u001b[0m     keyarr, indexer, new_indexer \u001b[38;5;241m=\u001b[39m \u001b[38;5;28mself\u001b[39m\u001b[38;5;241m.\u001b[39m_reindex_non_unique(keyarr)\n\u001b[1;32m-> 5782\u001b[0m \u001b[38;5;28;43mself\u001b[39;49m\u001b[38;5;241;43m.\u001b[39;49m\u001b[43m_raise_if_missing\u001b[49m\u001b[43m(\u001b[49m\u001b[43mkeyarr\u001b[49m\u001b[43m,\u001b[49m\u001b[43m \u001b[49m\u001b[43mindexer\u001b[49m\u001b[43m,\u001b[49m\u001b[43m \u001b[49m\u001b[43maxis_name\u001b[49m\u001b[43m)\u001b[49m\n\u001b[0;32m   5784\u001b[0m keyarr \u001b[38;5;241m=\u001b[39m \u001b[38;5;28mself\u001b[39m\u001b[38;5;241m.\u001b[39mtake(indexer)\n\u001b[0;32m   5785\u001b[0m \u001b[38;5;28;01mif\u001b[39;00m \u001b[38;5;28misinstance\u001b[39m(key, Index):\n\u001b[0;32m   5786\u001b[0m     \u001b[38;5;66;03m# GH 42790 - Preserve name from an Index\u001b[39;00m\n",
      "File \u001b[1;32mc:\\users\\14159\\appdata\\local\\programs\\python\\python39\\lib\\site-packages\\pandas\\core\\indexes\\base.py:5845\u001b[0m, in \u001b[0;36mIndex._raise_if_missing\u001b[1;34m(self, key, indexer, axis_name)\u001b[0m\n\u001b[0;32m   5842\u001b[0m     \u001b[38;5;28;01mraise\u001b[39;00m \u001b[38;5;167;01mKeyError\u001b[39;00m(\u001b[38;5;124mf\u001b[39m\u001b[38;5;124m\"\u001b[39m\u001b[38;5;124mNone of [\u001b[39m\u001b[38;5;132;01m{\u001b[39;00mkey\u001b[38;5;132;01m}\u001b[39;00m\u001b[38;5;124m] are in the [\u001b[39m\u001b[38;5;132;01m{\u001b[39;00maxis_name\u001b[38;5;132;01m}\u001b[39;00m\u001b[38;5;124m]\u001b[39m\u001b[38;5;124m\"\u001b[39m)\n\u001b[0;32m   5844\u001b[0m not_found \u001b[38;5;241m=\u001b[39m \u001b[38;5;28mlist\u001b[39m(ensure_index(key)[missing_mask\u001b[38;5;241m.\u001b[39mnonzero()[\u001b[38;5;241m0\u001b[39m]]\u001b[38;5;241m.\u001b[39munique())\n\u001b[1;32m-> 5845\u001b[0m \u001b[38;5;28;01mraise\u001b[39;00m \u001b[38;5;167;01mKeyError\u001b[39;00m(\u001b[38;5;124mf\u001b[39m\u001b[38;5;124m\"\u001b[39m\u001b[38;5;132;01m{\u001b[39;00mnot_found\u001b[38;5;132;01m}\u001b[39;00m\u001b[38;5;124m not in index\u001b[39m\u001b[38;5;124m\"\u001b[39m)\n",
      "\u001b[1;31mKeyError\u001b[0m: \"['Y2000', 'Y2001', 'Y2002', 'Y2003', 'Y2004', 'Y2005', 'Y2006', 'Y2007', 'Y2008', 'Y2009', 'Y2010', 'Y2011', 'Y2012', 'Y2013', 'Y2014', 'Y2015', 'Y2016', 'Y2017', 'Y2018', 'Y2019', 'Y2020'] not in index\""
     ]
    }
   ],
   "source": [
    "plotProductionCrop(agDataArea, \"Area Harvested\", \"Oranges\", 2000, 2020, 5, createPlotFunc=createStackPlot)"
   ]
  },
  {
   "cell_type": "code",
   "execution_count": null,
   "id": "9a80f26f",
   "metadata": {},
   "outputs": [],
   "source": []
  }
 ],
 "metadata": {
  "kernelspec": {
   "display_name": "Python 3 (ipykernel)",
   "language": "python",
   "name": "python3"
  },
  "language_info": {
   "codemirror_mode": {
    "name": "ipython",
    "version": 3
   },
   "file_extension": ".py",
   "mimetype": "text/x-python",
   "name": "python",
   "nbconvert_exporter": "python",
   "pygments_lexer": "ipython3",
   "version": "3.9.5"
  }
 },
 "nbformat": 4,
 "nbformat_minor": 5
}
