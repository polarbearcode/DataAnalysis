{
 "cells": [
  {
   "cell_type": "code",
   "execution_count": 19,
   "id": "d902e774",
   "metadata": {},
   "outputs": [
    {
     "ename": "ModuleNotFoundError",
     "evalue": "No module named 'xlwt'",
     "output_type": "error",
     "traceback": [
      "\u001b[1;31m---------------------------------------------------------------------------\u001b[0m",
      "\u001b[1;31mModuleNotFoundError\u001b[0m                       Traceback (most recent call last)",
      "Input \u001b[1;32mIn [19]\u001b[0m, in \u001b[0;36m<cell line: 3>\u001b[1;34m()\u001b[0m\n\u001b[0;32m      1\u001b[0m \u001b[38;5;28;01mimport\u001b[39;00m \u001b[38;5;21;01mpandas\u001b[39;00m \u001b[38;5;28;01mas\u001b[39;00m \u001b[38;5;21;01mpd\u001b[39;00m\n\u001b[0;32m      2\u001b[0m \u001b[38;5;28;01mimport\u001b[39;00m \u001b[38;5;21;01mos\u001b[39;00m\n\u001b[1;32m----> 3\u001b[0m \u001b[38;5;28;01mimport\u001b[39;00m \u001b[38;5;21;01mxlwt\u001b[39;00m\n",
      "\u001b[1;31mModuleNotFoundError\u001b[0m: No module named 'xlwt'"
     ]
    }
   ],
   "source": [
    "import pandas as pd\n",
    "import os"
   ]
  },
  {
   "cell_type": "code",
   "execution_count": 8,
   "id": "310181d3",
   "metadata": {},
   "outputs": [
    {
     "name": "stdout",
     "output_type": "stream",
     "text": [
      "    Rk   G        Date     Age   Tm Unnamed: 5  Opp Unnamed: 7  GS     MP  \\\n",
      "0    1   1  2020-08-18  35-232  LAL        NaN  POR     L (-7)   1  41:03   \n",
      "1    2   2  2020-08-20  35-234  LAL        NaN  POR    W (+23)   1  26:41   \n",
      "2    3   3  2020-08-22  35-236  LAL          @  POR     W (+8)   1  34:29   \n",
      "3    4   4  2020-08-24  35-238  LAL          @  POR    W (+20)   1  28:18   \n",
      "4    5   5  2020-08-29  35-243  LAL        NaN  POR     W (+9)   1  33:52   \n",
      "5    6   6  2020-09-04  35-249  LAL        NaN  HOU    L (-15)   1  36:34   \n",
      "6    7   7  2020-09-06  35-251  LAL        NaN  HOU     W (+8)   1  39:16   \n",
      "7    8   8  2020-09-08  35-253  LAL          @  HOU    W (+10)   1  37:31   \n",
      "8    9   9  2020-09-10  35-255  LAL          @  HOU    W (+10)   1  33:45   \n",
      "9   10  10  2020-09-12  35-257  LAL        NaN  HOU    W (+23)   1  30:48   \n",
      "10  11  11  2020-09-18  35-263  LAL        NaN  DEN    W (+12)   1  30:54   \n",
      "11  12  12  2020-09-20  35-265  LAL        NaN  DEN     W (+2)   1  36:25   \n",
      "12  13  13  2020-09-22  35-267  LAL          @  DEN     L (-8)   1  37:15   \n",
      "13  14  14  2020-09-24  35-269  LAL          @  DEN     W (+6)   1  38:21   \n",
      "14  15  15  2020-09-26  35-271  LAL        NaN  DEN    W (+10)   1  40:01   \n",
      "15  16  16  2020-09-30  35-275  LAL        NaN  MIA    W (+18)   1  36:24   \n",
      "16  17  17  2020-10-02  35-277  LAL        NaN  MIA    W (+10)   1  39:09   \n",
      "17  18  18  2020-10-04  35-279  LAL          @  MIA    L (-11)   1  39:13   \n",
      "18  19  19  2020-10-06  35-281  LAL          @  MIA     W (+6)   1  38:38   \n",
      "19  20  20  2020-10-09  35-284  LAL        NaN  MIA     L (-3)   1  41:51   \n",
      "20  21  21  2020-10-11  35-286  LAL          @  MIA    W (+13)   1  41:13   \n",
      "\n",
      "    ...  DRB  TRB  AST  STL  BLK  TOV  PF  PTS  GmSc  +/-  \n",
      "0   ...   15   17   16    1    0    4   1   23  25.1   -3  \n",
      "1   ...    6    6    7    2    0    6   1   10   6.2   23  \n",
      "2   ...   11   12    8    2    0    8   3   38  30.2    2  \n",
      "3   ...    5    6   10    0    1    2   2   30  31.9   17  \n",
      "4   ...   10   10   10    1    1    5   1   36  34.6   20  \n",
      "5   ...    7    8    7    0    2    4   2   20  16.2  -15  \n",
      "6   ...   11   11    9    4    2    7   3   28  25.7   15  \n",
      "7   ...    7    7    5    1    4    2   1   36  30.5    8  \n",
      "8   ...   14   15    9    3    0    4   2   16  15.9   15  \n",
      "9   ...    9   11    7    2    1    4   2   29  26.1   19  \n",
      "10  ...    5    6   12    0    0    3   2   15  16.1   15  \n",
      "11  ...    9   11    4    0    2    6   2   26  17.1   -9  \n",
      "12  ...    9   10   11    2    2    6   1   30  27.2    2  \n",
      "13  ...    8    9    8    0    0    0   2   26  22.9    8  \n",
      "14  ...   13   16   10    1    0    2   2   38  37.3   12  \n",
      "15  ...   12   13    9    1    0    2   3   25  24.7   10  \n",
      "16  ...    7    9    9    1    1    0   2   33  30.6    7  \n",
      "17  ...    9   10    8    0    2    8   2   25  17.8   -4  \n",
      "18  ...   10   12    8    1    0    6   2   28  23.4   -2  \n",
      "19  ...   10   13    7    3    0    4   1   40  39.1    7  \n",
      "20  ...   11   14   10    1    0    1   3   28  29.2   18  \n",
      "\n",
      "[21 rows x 30 columns]\n"
     ]
    }
   ],
   "source": [
    "playoff2020 = pd.read_csv(\"2020.csv\")\n",
    "print(playoff2020)"
   ]
  },
  {
   "cell_type": "code",
   "execution_count": 13,
   "id": "998a8d34",
   "metadata": {},
   "outputs": [
    {
     "name": "stdout",
     "output_type": "stream",
     "text": [
      "['POR' 'HOU' 'DEN' 'MIA']\n"
     ]
    }
   ],
   "source": [
    "opponents = playoff2020['Opp'].unique()"
   ]
  },
  {
   "cell_type": "code",
   "execution_count": 15,
   "id": "49a90bf5",
   "metadata": {},
   "outputs": [
    {
     "name": "stdout",
     "output_type": "stream",
     "text": [
      "   Rk  G        Date     Age   Tm Unnamed: 5  Opp Unnamed: 7  GS     MP  ...  \\\n",
      "0   1  1  2020-08-18  35-232  LAL        NaN  POR     L (-7)   1  41:03  ...   \n",
      "1   2  2  2020-08-20  35-234  LAL        NaN  POR    W (+23)   1  26:41  ...   \n",
      "2   3  3  2020-08-22  35-236  LAL          @  POR     W (+8)   1  34:29  ...   \n",
      "3   4  4  2020-08-24  35-238  LAL          @  POR    W (+20)   1  28:18  ...   \n",
      "4   5  5  2020-08-29  35-243  LAL        NaN  POR     W (+9)   1  33:52  ...   \n",
      "\n",
      "   DRB  TRB  AST  STL  BLK  TOV  PF  PTS  GmSc  +/-  \n",
      "0   15   17   16    1    0    4   1   23  25.1   -3  \n",
      "1    6    6    7    2    0    6   1   10   6.2   23  \n",
      "2   11   12    8    2    0    8   3   38  30.2    2  \n",
      "3    5    6   10    0    1    2   2   30  31.9   17  \n",
      "4   10   10   10    1    1    5   1   36  34.6   20  \n",
      "\n",
      "[5 rows x 30 columns]\n"
     ]
    }
   ],
   "source": [
    "round1 = playoff2020[playoff2020['Opp'] == opponents[0]]\n",
    "print(round1)"
   ]
  },
  {
   "cell_type": "code",
   "execution_count": 19,
   "id": "532616d9",
   "metadata": {},
   "outputs": [
    {
     "name": "stdout",
     "output_type": "stream",
     "text": [
      "[   Rk  G        Date     Age   Tm Unnamed: 5  Opp Unnamed: 7  GS     MP  ...  \\\n",
      "0   1  1  2020-08-18  35-232  LAL        NaN  POR     L (-7)   1  41:03  ...   \n",
      "1   2  2  2020-08-20  35-234  LAL        NaN  POR    W (+23)   1  26:41  ...   \n",
      "2   3  3  2020-08-22  35-236  LAL          @  POR     W (+8)   1  34:29  ...   \n",
      "3   4  4  2020-08-24  35-238  LAL          @  POR    W (+20)   1  28:18  ...   \n",
      "4   5  5  2020-08-29  35-243  LAL        NaN  POR     W (+9)   1  33:52  ...   \n",
      "\n",
      "   DRB  TRB  AST  STL  BLK  TOV  PF  PTS  GmSc  +/-  \n",
      "0   15   17   16    1    0    4   1   23  25.1   -3  \n",
      "1    6    6    7    2    0    6   1   10   6.2   23  \n",
      "2   11   12    8    2    0    8   3   38  30.2    2  \n",
      "3    5    6   10    0    1    2   2   30  31.9   17  \n",
      "4   10   10   10    1    1    5   1   36  34.6   20  \n",
      "\n",
      "[5 rows x 30 columns],    Rk   G        Date     Age   Tm Unnamed: 5  Opp Unnamed: 7  GS     MP  ...  \\\n",
      "5   6   6  2020-09-04  35-249  LAL        NaN  HOU    L (-15)   1  36:34  ...   \n",
      "6   7   7  2020-09-06  35-251  LAL        NaN  HOU     W (+8)   1  39:16  ...   \n",
      "7   8   8  2020-09-08  35-253  LAL          @  HOU    W (+10)   1  37:31  ...   \n",
      "8   9   9  2020-09-10  35-255  LAL          @  HOU    W (+10)   1  33:45  ...   \n",
      "9  10  10  2020-09-12  35-257  LAL        NaN  HOU    W (+23)   1  30:48  ...   \n",
      "\n",
      "   DRB  TRB  AST  STL  BLK  TOV  PF  PTS  GmSc  +/-  \n",
      "5    7    8    7    0    2    4   2   20  16.2  -15  \n",
      "6   11   11    9    4    2    7   3   28  25.7   15  \n",
      "7    7    7    5    1    4    2   1   36  30.5    8  \n",
      "8   14   15    9    3    0    4   2   16  15.9   15  \n",
      "9    9   11    7    2    1    4   2   29  26.1   19  \n",
      "\n",
      "[5 rows x 30 columns],     Rk   G        Date     Age   Tm Unnamed: 5  Opp Unnamed: 7  GS     MP  \\\n",
      "10  11  11  2020-09-18  35-263  LAL        NaN  DEN    W (+12)   1  30:54   \n",
      "11  12  12  2020-09-20  35-265  LAL        NaN  DEN     W (+2)   1  36:25   \n",
      "12  13  13  2020-09-22  35-267  LAL          @  DEN     L (-8)   1  37:15   \n",
      "13  14  14  2020-09-24  35-269  LAL          @  DEN     W (+6)   1  38:21   \n",
      "14  15  15  2020-09-26  35-271  LAL        NaN  DEN    W (+10)   1  40:01   \n",
      "\n",
      "    ...  DRB  TRB  AST  STL  BLK  TOV  PF  PTS  GmSc  +/-  \n",
      "10  ...    5    6   12    0    0    3   2   15  16.1   15  \n",
      "11  ...    9   11    4    0    2    6   2   26  17.1   -9  \n",
      "12  ...    9   10   11    2    2    6   1   30  27.2    2  \n",
      "13  ...    8    9    8    0    0    0   2   26  22.9    8  \n",
      "14  ...   13   16   10    1    0    2   2   38  37.3   12  \n",
      "\n",
      "[5 rows x 30 columns],     Rk   G        Date     Age   Tm Unnamed: 5  Opp Unnamed: 7  GS     MP  \\\n",
      "15  16  16  2020-09-30  35-275  LAL        NaN  MIA    W (+18)   1  36:24   \n",
      "16  17  17  2020-10-02  35-277  LAL        NaN  MIA    W (+10)   1  39:09   \n",
      "17  18  18  2020-10-04  35-279  LAL          @  MIA    L (-11)   1  39:13   \n",
      "18  19  19  2020-10-06  35-281  LAL          @  MIA     W (+6)   1  38:38   \n",
      "19  20  20  2020-10-09  35-284  LAL        NaN  MIA     L (-3)   1  41:51   \n",
      "20  21  21  2020-10-11  35-286  LAL          @  MIA    W (+13)   1  41:13   \n",
      "\n",
      "    ...  DRB  TRB  AST  STL  BLK  TOV  PF  PTS  GmSc  +/-  \n",
      "15  ...   12   13    9    1    0    2   3   25  24.7   10  \n",
      "16  ...    7    9    9    1    1    0   2   33  30.6    7  \n",
      "17  ...    9   10    8    0    2    8   2   25  17.8   -4  \n",
      "18  ...   10   12    8    1    0    6   2   28  23.4   -2  \n",
      "19  ...   10   13    7    3    0    4   1   40  39.1    7  \n",
      "20  ...   11   14   10    1    0    1   3   28  29.2   18  \n",
      "\n",
      "[6 rows x 30 columns]]\n"
     ]
    }
   ],
   "source": [
    "seriesArr = []\n",
    "for i in range(4):\n",
    "    seriesArr.append(playoff2020[playoff2020['Opp']== opponents[i]])\n",
    "print(seriesArr)"
   ]
  },
  {
   "cell_type": "code",
   "execution_count": 4,
   "id": "0dfa2ac2",
   "metadata": {},
   "outputs": [
    {
     "name": "stdout",
     "output_type": "stream",
     "text": [
      "C:\\DataAnalysis\\LebronPlayoffData\n"
     ]
    }
   ],
   "source": [
    "print(os.getcwd())"
   ]
  },
  {
   "cell_type": "code",
   "execution_count": 13,
   "id": "f3d723b1",
   "metadata": {},
   "outputs": [],
   "source": [
    "datafolder = os.path.join(os.getcwd(), \"Data\")\n",
    "def combineAllData(datafolder):\n",
    "    \"\"\"\n",
    "        Combine all the CSV data files into one dataframe\n",
    "        Arguments:\n",
    "            datafolder: Path to the Data folder\n",
    "        Returns:\n",
    "            a Pandas dataframe with all the data combined. \n",
    "    \"\"\"\n",
    "    pdDataFrames = []\n",
    "    for csvFile in os.listdir(datafolder):\n",
    "        filePath = os.path.join(datafolder, csvFile)\n",
    "        pdDataFrames.append(pd.read_csv(filePath))\n",
    "    return pd.concat(pdDataFrames, ignore_index=True)    \n",
    "    "
   ]
  },
  {
   "cell_type": "code",
   "execution_count": 21,
   "id": "957c6a97",
   "metadata": {},
   "outputs": [],
   "source": [
    "combinedDf = combineAllData(datafolder)\n",
    "combinedDf.to_excel(\"Combined.xlsx\", index=False)"
   ]
  },
  {
   "cell_type": "code",
   "execution_count": null,
   "id": "9c1028d3",
   "metadata": {},
   "outputs": [],
   "source": []
  }
 ],
 "metadata": {
  "kernelspec": {
   "display_name": "Python 3 (ipykernel)",
   "language": "python",
   "name": "python3"
  },
  "language_info": {
   "codemirror_mode": {
    "name": "ipython",
    "version": 3
   },
   "file_extension": ".py",
   "mimetype": "text/x-python",
   "name": "python",
   "nbconvert_exporter": "python",
   "pygments_lexer": "ipython3",
   "version": "3.9.5"
  }
 },
 "nbformat": 4,
 "nbformat_minor": 5
}
