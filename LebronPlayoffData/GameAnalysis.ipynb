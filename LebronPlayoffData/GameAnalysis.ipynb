{
 "cells": [
  {
   "cell_type": "code",
   "execution_count": 1,
   "id": "d902e774",
   "metadata": {},
   "outputs": [],
   "source": [
    "import pandas as pd\n",
    "import os"
   ]
  },
  {
   "cell_type": "code",
   "execution_count": 8,
   "id": "310181d3",
   "metadata": {},
   "outputs": [
    {
     "name": "stdout",
     "output_type": "stream",
     "text": [
      "    Rk   G        Date     Age   Tm Unnamed: 5  Opp Unnamed: 7  GS     MP  \\\n",
      "0    1   1  2020-08-18  35-232  LAL        NaN  POR     L (-7)   1  41:03   \n",
      "1    2   2  2020-08-20  35-234  LAL        NaN  POR    W (+23)   1  26:41   \n",
      "2    3   3  2020-08-22  35-236  LAL          @  POR     W (+8)   1  34:29   \n",
      "3    4   4  2020-08-24  35-238  LAL          @  POR    W (+20)   1  28:18   \n",
      "4    5   5  2020-08-29  35-243  LAL        NaN  POR     W (+9)   1  33:52   \n",
      "5    6   6  2020-09-04  35-249  LAL        NaN  HOU    L (-15)   1  36:34   \n",
      "6    7   7  2020-09-06  35-251  LAL        NaN  HOU     W (+8)   1  39:16   \n",
      "7    8   8  2020-09-08  35-253  LAL          @  HOU    W (+10)   1  37:31   \n",
      "8    9   9  2020-09-10  35-255  LAL          @  HOU    W (+10)   1  33:45   \n",
      "9   10  10  2020-09-12  35-257  LAL        NaN  HOU    W (+23)   1  30:48   \n",
      "10  11  11  2020-09-18  35-263  LAL        NaN  DEN    W (+12)   1  30:54   \n",
      "11  12  12  2020-09-20  35-265  LAL        NaN  DEN     W (+2)   1  36:25   \n",
      "12  13  13  2020-09-22  35-267  LAL          @  DEN     L (-8)   1  37:15   \n",
      "13  14  14  2020-09-24  35-269  LAL          @  DEN     W (+6)   1  38:21   \n",
      "14  15  15  2020-09-26  35-271  LAL        NaN  DEN    W (+10)   1  40:01   \n",
      "15  16  16  2020-09-30  35-275  LAL        NaN  MIA    W (+18)   1  36:24   \n",
      "16  17  17  2020-10-02  35-277  LAL        NaN  MIA    W (+10)   1  39:09   \n",
      "17  18  18  2020-10-04  35-279  LAL          @  MIA    L (-11)   1  39:13   \n",
      "18  19  19  2020-10-06  35-281  LAL          @  MIA     W (+6)   1  38:38   \n",
      "19  20  20  2020-10-09  35-284  LAL        NaN  MIA     L (-3)   1  41:51   \n",
      "20  21  21  2020-10-11  35-286  LAL          @  MIA    W (+13)   1  41:13   \n",
      "\n",
      "    ...  DRB  TRB  AST  STL  BLK  TOV  PF  PTS  GmSc  +/-  \n",
      "0   ...   15   17   16    1    0    4   1   23  25.1   -3  \n",
      "1   ...    6    6    7    2    0    6   1   10   6.2   23  \n",
      "2   ...   11   12    8    2    0    8   3   38  30.2    2  \n",
      "3   ...    5    6   10    0    1    2   2   30  31.9   17  \n",
      "4   ...   10   10   10    1    1    5   1   36  34.6   20  \n",
      "5   ...    7    8    7    0    2    4   2   20  16.2  -15  \n",
      "6   ...   11   11    9    4    2    7   3   28  25.7   15  \n",
      "7   ...    7    7    5    1    4    2   1   36  30.5    8  \n",
      "8   ...   14   15    9    3    0    4   2   16  15.9   15  \n",
      "9   ...    9   11    7    2    1    4   2   29  26.1   19  \n",
      "10  ...    5    6   12    0    0    3   2   15  16.1   15  \n",
      "11  ...    9   11    4    0    2    6   2   26  17.1   -9  \n",
      "12  ...    9   10   11    2    2    6   1   30  27.2    2  \n",
      "13  ...    8    9    8    0    0    0   2   26  22.9    8  \n",
      "14  ...   13   16   10    1    0    2   2   38  37.3   12  \n",
      "15  ...   12   13    9    1    0    2   3   25  24.7   10  \n",
      "16  ...    7    9    9    1    1    0   2   33  30.6    7  \n",
      "17  ...    9   10    8    0    2    8   2   25  17.8   -4  \n",
      "18  ...   10   12    8    1    0    6   2   28  23.4   -2  \n",
      "19  ...   10   13    7    3    0    4   1   40  39.1    7  \n",
      "20  ...   11   14   10    1    0    1   3   28  29.2   18  \n",
      "\n",
      "[21 rows x 30 columns]\n"
     ]
    }
   ],
   "source": [
    "playoff2020 = pd.read_csv(\"2020.csv\")\n",
    "print(playoff2020)"
   ]
  },
  {
   "cell_type": "code",
   "execution_count": 13,
   "id": "998a8d34",
   "metadata": {},
   "outputs": [
    {
     "name": "stdout",
     "output_type": "stream",
     "text": [
      "['POR' 'HOU' 'DEN' 'MIA']\n"
     ]
    }
   ],
   "source": [
    "opponents = playoff2020['Opp'].unique()"
   ]
  },
  {
   "cell_type": "code",
   "execution_count": 15,
   "id": "49a90bf5",
   "metadata": {},
   "outputs": [
    {
     "name": "stdout",
     "output_type": "stream",
     "text": [
      "   Rk  G        Date     Age   Tm Unnamed: 5  Opp Unnamed: 7  GS     MP  ...  \\\n",
      "0   1  1  2020-08-18  35-232  LAL        NaN  POR     L (-7)   1  41:03  ...   \n",
      "1   2  2  2020-08-20  35-234  LAL        NaN  POR    W (+23)   1  26:41  ...   \n",
      "2   3  3  2020-08-22  35-236  LAL          @  POR     W (+8)   1  34:29  ...   \n",
      "3   4  4  2020-08-24  35-238  LAL          @  POR    W (+20)   1  28:18  ...   \n",
      "4   5  5  2020-08-29  35-243  LAL        NaN  POR     W (+9)   1  33:52  ...   \n",
      "\n",
      "   DRB  TRB  AST  STL  BLK  TOV  PF  PTS  GmSc  +/-  \n",
      "0   15   17   16    1    0    4   1   23  25.1   -3  \n",
      "1    6    6    7    2    0    6   1   10   6.2   23  \n",
      "2   11   12    8    2    0    8   3   38  30.2    2  \n",
      "3    5    6   10    0    1    2   2   30  31.9   17  \n",
      "4   10   10   10    1    1    5   1   36  34.6   20  \n",
      "\n",
      "[5 rows x 30 columns]\n"
     ]
    }
   ],
   "source": [
    "round1 = playoff2020[playoff2020['Opp'] == opponents[0]]\n",
    "print(round1)"
   ]
  },
  {
   "cell_type": "code",
   "execution_count": 19,
   "id": "532616d9",
   "metadata": {},
   "outputs": [
    {
     "name": "stdout",
     "output_type": "stream",
     "text": [
      "[   Rk  G        Date     Age   Tm Unnamed: 5  Opp Unnamed: 7  GS     MP  ...  \\\n",
      "0   1  1  2020-08-18  35-232  LAL        NaN  POR     L (-7)   1  41:03  ...   \n",
      "1   2  2  2020-08-20  35-234  LAL        NaN  POR    W (+23)   1  26:41  ...   \n",
      "2   3  3  2020-08-22  35-236  LAL          @  POR     W (+8)   1  34:29  ...   \n",
      "3   4  4  2020-08-24  35-238  LAL          @  POR    W (+20)   1  28:18  ...   \n",
      "4   5  5  2020-08-29  35-243  LAL        NaN  POR     W (+9)   1  33:52  ...   \n",
      "\n",
      "   DRB  TRB  AST  STL  BLK  TOV  PF  PTS  GmSc  +/-  \n",
      "0   15   17   16    1    0    4   1   23  25.1   -3  \n",
      "1    6    6    7    2    0    6   1   10   6.2   23  \n",
      "2   11   12    8    2    0    8   3   38  30.2    2  \n",
      "3    5    6   10    0    1    2   2   30  31.9   17  \n",
      "4   10   10   10    1    1    5   1   36  34.6   20  \n",
      "\n",
      "[5 rows x 30 columns],    Rk   G        Date     Age   Tm Unnamed: 5  Opp Unnamed: 7  GS     MP  ...  \\\n",
      "5   6   6  2020-09-04  35-249  LAL        NaN  HOU    L (-15)   1  36:34  ...   \n",
      "6   7   7  2020-09-06  35-251  LAL        NaN  HOU     W (+8)   1  39:16  ...   \n",
      "7   8   8  2020-09-08  35-253  LAL          @  HOU    W (+10)   1  37:31  ...   \n",
      "8   9   9  2020-09-10  35-255  LAL          @  HOU    W (+10)   1  33:45  ...   \n",
      "9  10  10  2020-09-12  35-257  LAL        NaN  HOU    W (+23)   1  30:48  ...   \n",
      "\n",
      "   DRB  TRB  AST  STL  BLK  TOV  PF  PTS  GmSc  +/-  \n",
      "5    7    8    7    0    2    4   2   20  16.2  -15  \n",
      "6   11   11    9    4    2    7   3   28  25.7   15  \n",
      "7    7    7    5    1    4    2   1   36  30.5    8  \n",
      "8   14   15    9    3    0    4   2   16  15.9   15  \n",
      "9    9   11    7    2    1    4   2   29  26.1   19  \n",
      "\n",
      "[5 rows x 30 columns],     Rk   G        Date     Age   Tm Unnamed: 5  Opp Unnamed: 7  GS     MP  \\\n",
      "10  11  11  2020-09-18  35-263  LAL        NaN  DEN    W (+12)   1  30:54   \n",
      "11  12  12  2020-09-20  35-265  LAL        NaN  DEN     W (+2)   1  36:25   \n",
      "12  13  13  2020-09-22  35-267  LAL          @  DEN     L (-8)   1  37:15   \n",
      "13  14  14  2020-09-24  35-269  LAL          @  DEN     W (+6)   1  38:21   \n",
      "14  15  15  2020-09-26  35-271  LAL        NaN  DEN    W (+10)   1  40:01   \n",
      "\n",
      "    ...  DRB  TRB  AST  STL  BLK  TOV  PF  PTS  GmSc  +/-  \n",
      "10  ...    5    6   12    0    0    3   2   15  16.1   15  \n",
      "11  ...    9   11    4    0    2    6   2   26  17.1   -9  \n",
      "12  ...    9   10   11    2    2    6   1   30  27.2    2  \n",
      "13  ...    8    9    8    0    0    0   2   26  22.9    8  \n",
      "14  ...   13   16   10    1    0    2   2   38  37.3   12  \n",
      "\n",
      "[5 rows x 30 columns],     Rk   G        Date     Age   Tm Unnamed: 5  Opp Unnamed: 7  GS     MP  \\\n",
      "15  16  16  2020-09-30  35-275  LAL        NaN  MIA    W (+18)   1  36:24   \n",
      "16  17  17  2020-10-02  35-277  LAL        NaN  MIA    W (+10)   1  39:09   \n",
      "17  18  18  2020-10-04  35-279  LAL          @  MIA    L (-11)   1  39:13   \n",
      "18  19  19  2020-10-06  35-281  LAL          @  MIA     W (+6)   1  38:38   \n",
      "19  20  20  2020-10-09  35-284  LAL        NaN  MIA     L (-3)   1  41:51   \n",
      "20  21  21  2020-10-11  35-286  LAL          @  MIA    W (+13)   1  41:13   \n",
      "\n",
      "    ...  DRB  TRB  AST  STL  BLK  TOV  PF  PTS  GmSc  +/-  \n",
      "15  ...   12   13    9    1    0    2   3   25  24.7   10  \n",
      "16  ...    7    9    9    1    1    0   2   33  30.6    7  \n",
      "17  ...    9   10    8    0    2    8   2   25  17.8   -4  \n",
      "18  ...   10   12    8    1    0    6   2   28  23.4   -2  \n",
      "19  ...   10   13    7    3    0    4   1   40  39.1    7  \n",
      "20  ...   11   14   10    1    0    1   3   28  29.2   18  \n",
      "\n",
      "[6 rows x 30 columns]]\n"
     ]
    }
   ],
   "source": [
    "seriesArr = []\n",
    "for i in range(4):\n",
    "    seriesArr.append(playoff2020[playoff2020['Opp']== opponents[i]])\n",
    "print(seriesArr)"
   ]
  },
  {
   "cell_type": "code",
   "execution_count": 2,
   "id": "0dfa2ac2",
   "metadata": {},
   "outputs": [
    {
     "name": "stdout",
     "output_type": "stream",
     "text": [
      "C:\\DataAnalysis\\LebronPlayoffData\n"
     ]
    }
   ],
   "source": [
    "print(os.getcwd())"
   ]
  },
  {
   "cell_type": "code",
   "execution_count": 3,
   "id": "25c2a2ca",
   "metadata": {},
   "outputs": [],
   "source": [
    "datafolder = os.path.join(os.getcwd(), \"Data\")\n",
    "def combineAllData(datafolder):\n",
    "    \"\"\"\n",
    "        Combine all the CSV data files into one dataframe\n",
    "        Arguments:\n",
    "            datafolder: Path to the Data folder\n",
    "        Returns:\n",
    "            a Pandas dataframe with all the data combined. \n",
    "    \"\"\"\n",
    "    pdDataFrames = []\n",
    "    for csvFile in os.listdir(datafolder):\n",
    "        filePath = os.path.join(datafolder, csvFile)\n",
    "        pdDataFrames.append(pd.read_csv(filePath))\n",
    "    return pd.concat(pdDataFrames, ignore_index=True)    \n",
    "    "
   ]
  },
  {
   "cell_type": "code",
   "execution_count": 4,
   "id": "0123c101",
   "metadata": {},
   "outputs": [
    {
     "data": {
      "text/plain": [
       "<bound method NDFrame.head of      Rk  G        Date     Age   Tm Unnamed: 5  Opp Unnamed: 7  GS     MP  \\\n",
       "0     1  1  2006-04-22  21-113  CLE        NaN  WAS    W (+11)   1  48:00   \n",
       "1     2  2  2006-04-25  21-116  CLE        NaN  WAS     L (-5)   1  43:28   \n",
       "2     3  3  2006-04-28  21-119  CLE          @  WAS     W (+1)   1  47:37   \n",
       "3     4  4  2006-04-30  21-121  CLE          @  WAS    L (-10)   1  45:20   \n",
       "4     5  5  2006-05-03  21-124  CLE        NaN  WAS     W (+1)   1  46:07   \n",
       "..   .. ..         ...     ...  ...        ...  ...        ...  ..    ...   \n",
       "261   2  2  2021-05-25  36-146  LAL          @  PHO     W (+7)   1  38:54   \n",
       "262   3  3  2021-05-27  36-148  LAL        NaN  PHO    W (+14)   1  37:45   \n",
       "263   4  4  2021-05-30  36-151  LAL        NaN  PHO     L (-8)   1  37:50   \n",
       "264   5  5  2021-06-01  36-153  LAL          @  PHO    L (-30)   1  31:39   \n",
       "265   6  6  2021-06-03  36-155  LAL        NaN  PHO    L (-13)   1  41:25   \n",
       "\n",
       "     ...  DRB  TRB  AST  STL  BLK  TOV  PF  PTS  GmSc  +/-  \n",
       "0    ...    8   11   11    0    0    4   3   32  23.3   11  \n",
       "1    ...    7    9    2    2    3   10   5   26   6.7   -2  \n",
       "2    ...    4    5    3    2    0    4   3   41  27.4    1  \n",
       "3    ...    5    6    5    0    0    7   5   38  23.0  -16  \n",
       "4    ...    2    7    6    2    0    4   5   45  38.4   -4  \n",
       "..   ...  ...  ...  ...  ...  ...  ...  ..  ...   ...  ...  \n",
       "261  ...    4    4    9    2    0    1   3   23  22.7   14  \n",
       "262  ...    5    6    9    1    0    7   0   21  13.4   15  \n",
       "263  ...   10   12    6    1    0    6   1   25  16.3    6  \n",
       "264  ...    4    5    7    0    0    3   1   24  17.7  -24  \n",
       "265  ...    7    9    7    2    2    3   1   29  22.8   -3  \n",
       "\n",
       "[266 rows x 30 columns]>"
      ]
     },
     "execution_count": 4,
     "metadata": {},
     "output_type": "execute_result"
    }
   ],
   "source": [
    "combinedDf = combineAllData(datafolder)\n",
    "combinedDf.to_excel(\"Combined.xlsx\", index=False)\n",
    "combinedDf.head"
   ]
  },
  {
   "cell_type": "code",
   "execution_count": 5,
   "id": "824910e7",
   "metadata": {},
   "outputs": [],
   "source": [
    "def labelGameOnes(combinedDf):\n",
    "    gameBoolean = []\n",
    "    prev = \"\"\n",
    "    for index, row in combinedDf.iterrows():\n",
    "        if index == 0 or row['Opp'] != prev:\n",
    "            gameBoolean.append(True)\n",
    "            prev = row['Opp']\n",
    "        else:\n",
    "            gameBoolean.append(False)   \n",
    "    combinedDf['Is Game One'] = gameBoolean\n",
    "labelGameOnes(combinedDf)    "
   ]
  },
  {
   "cell_type": "code",
   "execution_count": 6,
   "id": "3adb3cd1",
   "metadata": {},
   "outputs": [
    {
     "data": {
      "text/plain": [
       "<bound method NDFrame.head of      Rk  G        Date     Age   Tm Unnamed: 5  Opp Unnamed: 7  GS     MP  \\\n",
       "0     1  1  2006-04-22  21-113  CLE        NaN  WAS    W (+11)   1  48:00   \n",
       "1     2  2  2006-04-25  21-116  CLE        NaN  WAS     L (-5)   1  43:28   \n",
       "2     3  3  2006-04-28  21-119  CLE          @  WAS     W (+1)   1  47:37   \n",
       "3     4  4  2006-04-30  21-121  CLE          @  WAS    L (-10)   1  45:20   \n",
       "4     5  5  2006-05-03  21-124  CLE        NaN  WAS     W (+1)   1  46:07   \n",
       "..   .. ..         ...     ...  ...        ...  ...        ...  ..    ...   \n",
       "261   2  2  2021-05-25  36-146  LAL          @  PHO     W (+7)   1  38:54   \n",
       "262   3  3  2021-05-27  36-148  LAL        NaN  PHO    W (+14)   1  37:45   \n",
       "263   4  4  2021-05-30  36-151  LAL        NaN  PHO     L (-8)   1  37:50   \n",
       "264   5  5  2021-06-01  36-153  LAL          @  PHO    L (-30)   1  31:39   \n",
       "265   6  6  2021-06-03  36-155  LAL        NaN  PHO    L (-13)   1  41:25   \n",
       "\n",
       "     ...  TRB  AST  STL  BLK  TOV  PF  PTS  GmSc  +/-  Is Game One  \n",
       "0    ...   11   11    0    0    4   3   32  23.3   11         True  \n",
       "1    ...    9    2    2    3   10   5   26   6.7   -2        False  \n",
       "2    ...    5    3    2    0    4   3   41  27.4    1        False  \n",
       "3    ...    6    5    0    0    7   5   38  23.0  -16        False  \n",
       "4    ...    7    6    2    0    4   5   45  38.4   -4        False  \n",
       "..   ...  ...  ...  ...  ...  ...  ..  ...   ...  ...          ...  \n",
       "261  ...    4    9    2    0    1   3   23  22.7   14        False  \n",
       "262  ...    6    9    1    0    7   0   21  13.4   15        False  \n",
       "263  ...   12    6    1    0    6   1   25  16.3    6        False  \n",
       "264  ...    5    7    0    0    3   1   24  17.7  -24        False  \n",
       "265  ...    9    7    2    2    3   1   29  22.8   -3        False  \n",
       "\n",
       "[266 rows x 31 columns]>"
      ]
     },
     "execution_count": 6,
     "metadata": {},
     "output_type": "execute_result"
    }
   ],
   "source": [
    "combinedDf.head"
   ]
  },
  {
   "cell_type": "code",
   "execution_count": 11,
   "id": "0c9f8d61",
   "metadata": {},
   "outputs": [
    {
     "data": {
      "text/html": [
       "<div>\n",
       "<style scoped>\n",
       "    .dataframe tbody tr th:only-of-type {\n",
       "        vertical-align: middle;\n",
       "    }\n",
       "\n",
       "    .dataframe tbody tr th {\n",
       "        vertical-align: top;\n",
       "    }\n",
       "\n",
       "    .dataframe thead th {\n",
       "        text-align: right;\n",
       "    }\n",
       "</style>\n",
       "<table border=\"1\" class=\"dataframe\">\n",
       "  <thead>\n",
       "    <tr style=\"text-align: right;\">\n",
       "      <th></th>\n",
       "      <th>PTS</th>\n",
       "      <th>TOV</th>\n",
       "      <th>3P%</th>\n",
       "    </tr>\n",
       "    <tr>\n",
       "      <th>Is Game One</th>\n",
       "      <th></th>\n",
       "      <th></th>\n",
       "      <th></th>\n",
       "    </tr>\n",
       "  </thead>\n",
       "  <tbody>\n",
       "    <tr>\n",
       "      <th>False</th>\n",
       "      <td>29.263889</td>\n",
       "      <td>3.736111</td>\n",
       "      <td>0.318304</td>\n",
       "    </tr>\n",
       "    <tr>\n",
       "      <th>True</th>\n",
       "      <td>26.200000</td>\n",
       "      <td>3.360000</td>\n",
       "      <td>0.280562</td>\n",
       "    </tr>\n",
       "  </tbody>\n",
       "</table>\n",
       "</div>"
      ],
      "text/plain": [
       "                   PTS       TOV       3P%\n",
       "Is Game One                               \n",
       "False        29.263889  3.736111  0.318304\n",
       "True         26.200000  3.360000  0.280562"
      ]
     },
     "execution_count": 11,
     "metadata": {},
     "output_type": "execute_result"
    }
   ],
   "source": [
    "combinedDf.groupby('Is Game One')[['PTS', 'TOV', '3P%']].mean()"
   ]
  },
  {
   "cell_type": "code",
   "execution_count": 12,
   "id": "8575f492",
   "metadata": {},
   "outputs": [
    {
     "data": {
      "text/html": [
       "<div>\n",
       "<style scoped>\n",
       "    .dataframe tbody tr th:only-of-type {\n",
       "        vertical-align: middle;\n",
       "    }\n",
       "\n",
       "    .dataframe tbody tr th {\n",
       "        vertical-align: top;\n",
       "    }\n",
       "\n",
       "    .dataframe thead th {\n",
       "        text-align: right;\n",
       "    }\n",
       "</style>\n",
       "<table border=\"1\" class=\"dataframe\">\n",
       "  <thead>\n",
       "    <tr style=\"text-align: right;\">\n",
       "      <th></th>\n",
       "      <th>PTS</th>\n",
       "    </tr>\n",
       "    <tr>\n",
       "      <th>Opp</th>\n",
       "      <th></th>\n",
       "    </tr>\n",
       "  </thead>\n",
       "  <tbody>\n",
       "    <tr>\n",
       "      <th>ATL</th>\n",
       "      <td>29.416667</td>\n",
       "    </tr>\n",
       "    <tr>\n",
       "      <th>BOS</th>\n",
       "      <td>29.609756</td>\n",
       "    </tr>\n",
       "    <tr>\n",
       "      <th>BRK</th>\n",
       "      <td>30.000000</td>\n",
       "    </tr>\n",
       "    <tr>\n",
       "      <th>CHA</th>\n",
       "      <td>30.000000</td>\n",
       "    </tr>\n",
       "    <tr>\n",
       "      <th>CHI</th>\n",
       "      <td>26.809524</td>\n",
       "    </tr>\n",
       "    <tr>\n",
       "      <th>DAL</th>\n",
       "      <td>17.833333</td>\n",
       "    </tr>\n",
       "    <tr>\n",
       "      <th>DEN</th>\n",
       "      <td>27.000000</td>\n",
       "    </tr>\n",
       "    <tr>\n",
       "      <th>DET</th>\n",
       "      <td>26.619048</td>\n",
       "    </tr>\n",
       "    <tr>\n",
       "      <th>GSW</th>\n",
       "      <td>33.045455</td>\n",
       "    </tr>\n",
       "    <tr>\n",
       "      <th>HOU</th>\n",
       "      <td>25.800000</td>\n",
       "    </tr>\n",
       "    <tr>\n",
       "      <th>IND</th>\n",
       "      <td>29.733333</td>\n",
       "    </tr>\n",
       "    <tr>\n",
       "      <th>MIA</th>\n",
       "      <td>29.833333</td>\n",
       "    </tr>\n",
       "    <tr>\n",
       "      <th>MIL</th>\n",
       "      <td>24.500000</td>\n",
       "    </tr>\n",
       "    <tr>\n",
       "      <th>NJN</th>\n",
       "      <td>24.666667</td>\n",
       "    </tr>\n",
       "    <tr>\n",
       "      <th>NYK</th>\n",
       "      <td>27.800000</td>\n",
       "    </tr>\n",
       "    <tr>\n",
       "      <th>OKC</th>\n",
       "      <td>28.600000</td>\n",
       "    </tr>\n",
       "    <tr>\n",
       "      <th>ORL</th>\n",
       "      <td>38.500000</td>\n",
       "    </tr>\n",
       "    <tr>\n",
       "      <th>PHI</th>\n",
       "      <td>24.200000</td>\n",
       "    </tr>\n",
       "    <tr>\n",
       "      <th>PHO</th>\n",
       "      <td>23.333333</td>\n",
       "    </tr>\n",
       "    <tr>\n",
       "      <th>POR</th>\n",
       "      <td>27.400000</td>\n",
       "    </tr>\n",
       "    <tr>\n",
       "      <th>SAS</th>\n",
       "      <td>25.375000</td>\n",
       "    </tr>\n",
       "    <tr>\n",
       "      <th>TOR</th>\n",
       "      <td>31.142857</td>\n",
       "    </tr>\n",
       "    <tr>\n",
       "      <th>WAS</th>\n",
       "      <td>31.500000</td>\n",
       "    </tr>\n",
       "  </tbody>\n",
       "</table>\n",
       "</div>"
      ],
      "text/plain": [
       "           PTS\n",
       "Opp           \n",
       "ATL  29.416667\n",
       "BOS  29.609756\n",
       "BRK  30.000000\n",
       "CHA  30.000000\n",
       "CHI  26.809524\n",
       "DAL  17.833333\n",
       "DEN  27.000000\n",
       "DET  26.619048\n",
       "GSW  33.045455\n",
       "HOU  25.800000\n",
       "IND  29.733333\n",
       "MIA  29.833333\n",
       "MIL  24.500000\n",
       "NJN  24.666667\n",
       "NYK  27.800000\n",
       "OKC  28.600000\n",
       "ORL  38.500000\n",
       "PHI  24.200000\n",
       "PHO  23.333333\n",
       "POR  27.400000\n",
       "SAS  25.375000\n",
       "TOR  31.142857\n",
       "WAS  31.500000"
      ]
     },
     "execution_count": 12,
     "metadata": {},
     "output_type": "execute_result"
    }
   ],
   "source": [
    "combinedDf.groupby('Opp')[['PTS']].mean()"
   ]
  },
  {
   "cell_type": "code",
   "execution_count": null,
   "id": "e5137d8c",
   "metadata": {},
   "outputs": [],
   "source": []
  }
 ],
 "metadata": {
  "kernelspec": {
   "display_name": "Python 3 (ipykernel)",
   "language": "python",
   "name": "python3"
  },
  "language_info": {
   "codemirror_mode": {
    "name": "ipython",
    "version": 3
   },
   "file_extension": ".py",
   "mimetype": "text/x-python",
   "name": "python",
   "nbconvert_exporter": "python",
   "pygments_lexer": "ipython3",
   "version": "3.9.5"
  }
 },
 "nbformat": 4,
 "nbformat_minor": 5
}
