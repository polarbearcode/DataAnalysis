{
 "cells": [
  {
   "cell_type": "code",
   "execution_count": 4,
   "id": "8f64adbf",
   "metadata": {},
   "outputs": [],
   "source": [
    "from bs4 import BeautifulSoup\n",
    "from selenium import webdriver\n",
    "from selenium.webdriver.chrome.service import Service\n",
    "from webdriver_manager.chrome import ChromeDriverManager\n",
    "from selenium.webdriver.common.by import By\n",
    "from selenium.webdriver.support.ui import WebDriverWait\n",
    "from selenium.webdriver.support import expected_conditions as EC "
   ]
  },
  {
   "cell_type": "code",
   "execution_count": 5,
   "id": "9dae9a45",
   "metadata": {},
   "outputs": [
    {
     "name": "stdout",
     "output_type": "stream",
     "text": [
      "\n"
     ]
    },
    {
     "name": "stderr",
     "output_type": "stream",
     "text": [
      "[WDM] - ====== WebDriver manager ======\n",
      "[WDM] - Current google-chrome version is 103.0.5060\n",
      "[WDM] - Get LATEST chromedriver version for 103.0.5060 google-chrome\n",
      "[WDM] - About to download new driver from https://chromedriver.storage.googleapis.com/103.0.5060.53/chromedriver_win32.zip\n",
      "[WDM] - Driver has been saved in cache [C:\\Users\\14159\\.wdm\\drivers\\chromedriver\\win32\\103.0.5060.53]\n"
     ]
    }
   ],
   "source": [
    "driver = webdriver.Chrome(service =Service(ChromeDriverManager().install()))"
   ]
  },
  {
   "cell_type": "code",
   "execution_count": 6,
   "id": "9c683f4e",
   "metadata": {},
   "outputs": [],
   "source": [
    "driver.get(\"https://www.basketball-reference.com/players/j/jamesle01.html\")\n",
    "playoffTab = driver.find_element(By.XPATH, \"//a[@data-show='.assoc_playoffs_per_game']\")\n",
    "#playoffTab = WebDriverWait(driver, 20).until(EC.element_to_be_clickable((By.XPATH, \"//a[@data-show='.assoc_playoffs_per_game']\")))\n",
    "#playoffTab.click()\n",
    "driver.execute_script(\"arguments[0].click()\", playoffTab)\n"
   ]
  },
  {
   "cell_type": "code",
   "execution_count": 7,
   "id": "2e6a464a",
   "metadata": {},
   "outputs": [
    {
     "name": "stdout",
     "output_type": "stream",
     "text": [
      "15\n"
     ]
    }
   ],
   "source": [
    "seasonLinks = driver.find_elements(By.XPATH, \"//table[@id='playoffs_per_game']//th[@data-stat='season']//a\")\n",
    "print(len(seasonLinks))"
   ]
  },
  {
   "cell_type": "code",
   "execution_count": 8,
   "id": "ca678595",
   "metadata": {},
   "outputs": [
    {
     "name": "stdout",
     "output_type": "stream",
     "text": [
      "2005-06\n",
      "2006-07\n",
      "2007-08\n",
      "2008-09\n",
      "2009-10\n",
      "2010-11\n",
      "2011-12\n",
      "2012-13\n",
      "2013-14\n",
      "2014-15\n",
      "2015-16\n",
      "2016-17\n",
      "2017-18\n",
      "2019-20\n",
      "2020-21\n"
     ]
    }
   ],
   "source": [
    "for s in seasonLinks:\n",
    "    print(s.text)"
   ]
  },
  {
   "cell_type": "code",
   "execution_count": 9,
   "id": "d6db5304",
   "metadata": {},
   "outputs": [],
   "source": [
    "driver.execute_script(\"arguments[0].click()\", seasonLinks[0])"
   ]
  },
  {
   "cell_type": "code",
   "execution_count": 10,
   "id": "18862011",
   "metadata": {},
   "outputs": [
    {
     "ename": "NoSuchElementException",
     "evalue": "Message: no such element: Unable to locate element: {\"method\":\"xpath\",\"selector\":\"//*[@id='pgl_basic_playoffs_sh']/div/ul/li[1]/div/ul/li[4]/button\"}\n  (Session info: chrome=103.0.5060.66)\nStacktrace:\nBacktrace:\n\tOrdinal0 [0x00C46463+2188387]\n\tOrdinal0 [0x00BDE461+1762401]\n\tOrdinal0 [0x00AF3D78+802168]\n\tOrdinal0 [0x00B21880+989312]\n\tOrdinal0 [0x00B21B1B+989979]\n\tOrdinal0 [0x00B4E912+1173778]\n\tOrdinal0 [0x00B3C824+1099812]\n\tOrdinal0 [0x00B4CC22+1166370]\n\tOrdinal0 [0x00B3C5F6+1099254]\n\tOrdinal0 [0x00B16BE0+945120]\n\tOrdinal0 [0x00B17AD6+948950]\n\tGetHandleVerifier [0x00EE71F2+2712546]\n\tGetHandleVerifier [0x00ED886D+2652765]\n\tGetHandleVerifier [0x00CD002A+520730]\n\tGetHandleVerifier [0x00CCEE06+516086]\n\tOrdinal0 [0x00BE468B+1787531]\n\tOrdinal0 [0x00BE8E88+1805960]\n\tOrdinal0 [0x00BE8F75+1806197]\n\tOrdinal0 [0x00BF1DF1+1842673]\n\tBaseThreadInitThunk [0x768F6739+25]\n\tRtlGetFullPathName_UEx [0x77948FEF+1215]\n\tRtlGetFullPathName_UEx [0x77948FBD+1165]\n",
     "output_type": "error",
     "traceback": [
      "\u001b[1;31m---------------------------------------------------------------------------\u001b[0m",
      "\u001b[1;31mNoSuchElementException\u001b[0m                    Traceback (most recent call last)",
      "Input \u001b[1;32mIn [10]\u001b[0m, in \u001b[0;36m<cell line: 1>\u001b[1;34m()\u001b[0m\n\u001b[1;32m----> 1\u001b[0m toCSV \u001b[38;5;241m=\u001b[39m \u001b[43mdriver\u001b[49m\u001b[38;5;241;43m.\u001b[39;49m\u001b[43mfind_element\u001b[49m\u001b[43m(\u001b[49m\u001b[43mBy\u001b[49m\u001b[38;5;241;43m.\u001b[39;49m\u001b[43mXPATH\u001b[49m\u001b[43m,\u001b[49m\u001b[43m \u001b[49m\u001b[38;5;124;43m\"\u001b[39;49m\u001b[38;5;124;43m//*[@id=\u001b[39;49m\u001b[38;5;124;43m'\u001b[39;49m\u001b[38;5;124;43mpgl_basic_playoffs_sh\u001b[39;49m\u001b[38;5;124;43m'\u001b[39;49m\u001b[38;5;124;43m]/div/ul/li[1]/div/ul/li[4]/button\u001b[39;49m\u001b[38;5;124;43m\"\u001b[39;49m\u001b[43m)\u001b[49m\n\u001b[0;32m      2\u001b[0m driver\u001b[38;5;241m.\u001b[39mexecute_script(\u001b[38;5;124m\"\u001b[39m\u001b[38;5;124marguments[0].click()\u001b[39m\u001b[38;5;124m\"\u001b[39m, toCSV)\n",
      "File \u001b[1;32mc:\\users\\14159\\appdata\\local\\programs\\python\\python39\\lib\\site-packages\\selenium\\webdriver\\remote\\webdriver.py:1251\u001b[0m, in \u001b[0;36mWebDriver.find_element\u001b[1;34m(self, by, value)\u001b[0m\n\u001b[0;32m   1248\u001b[0m     by \u001b[38;5;241m=\u001b[39m By\u001b[38;5;241m.\u001b[39mCSS_SELECTOR\n\u001b[0;32m   1249\u001b[0m     value \u001b[38;5;241m=\u001b[39m \u001b[38;5;124m'\u001b[39m\u001b[38;5;124m[name=\u001b[39m\u001b[38;5;124m\"\u001b[39m\u001b[38;5;132;01m%s\u001b[39;00m\u001b[38;5;124m\"\u001b[39m\u001b[38;5;124m]\u001b[39m\u001b[38;5;124m'\u001b[39m \u001b[38;5;241m%\u001b[39m value\n\u001b[1;32m-> 1251\u001b[0m \u001b[38;5;28;01mreturn\u001b[39;00m \u001b[38;5;28;43mself\u001b[39;49m\u001b[38;5;241;43m.\u001b[39;49m\u001b[43mexecute\u001b[49m\u001b[43m(\u001b[49m\u001b[43mCommand\u001b[49m\u001b[38;5;241;43m.\u001b[39;49m\u001b[43mFIND_ELEMENT\u001b[49m\u001b[43m,\u001b[49m\u001b[43m \u001b[49m\u001b[43m{\u001b[49m\n\u001b[0;32m   1252\u001b[0m \u001b[43m    \u001b[49m\u001b[38;5;124;43m'\u001b[39;49m\u001b[38;5;124;43musing\u001b[39;49m\u001b[38;5;124;43m'\u001b[39;49m\u001b[43m:\u001b[49m\u001b[43m \u001b[49m\u001b[43mby\u001b[49m\u001b[43m,\u001b[49m\n\u001b[0;32m   1253\u001b[0m \u001b[43m    \u001b[49m\u001b[38;5;124;43m'\u001b[39;49m\u001b[38;5;124;43mvalue\u001b[39;49m\u001b[38;5;124;43m'\u001b[39;49m\u001b[43m:\u001b[49m\u001b[43m \u001b[49m\u001b[43mvalue\u001b[49m\u001b[43m}\u001b[49m\u001b[43m)\u001b[49m[\u001b[38;5;124m'\u001b[39m\u001b[38;5;124mvalue\u001b[39m\u001b[38;5;124m'\u001b[39m]\n",
      "File \u001b[1;32mc:\\users\\14159\\appdata\\local\\programs\\python\\python39\\lib\\site-packages\\selenium\\webdriver\\remote\\webdriver.py:430\u001b[0m, in \u001b[0;36mWebDriver.execute\u001b[1;34m(self, driver_command, params)\u001b[0m\n\u001b[0;32m    428\u001b[0m response \u001b[38;5;241m=\u001b[39m \u001b[38;5;28mself\u001b[39m\u001b[38;5;241m.\u001b[39mcommand_executor\u001b[38;5;241m.\u001b[39mexecute(driver_command, params)\n\u001b[0;32m    429\u001b[0m \u001b[38;5;28;01mif\u001b[39;00m response:\n\u001b[1;32m--> 430\u001b[0m     \u001b[38;5;28;43mself\u001b[39;49m\u001b[38;5;241;43m.\u001b[39;49m\u001b[43merror_handler\u001b[49m\u001b[38;5;241;43m.\u001b[39;49m\u001b[43mcheck_response\u001b[49m\u001b[43m(\u001b[49m\u001b[43mresponse\u001b[49m\u001b[43m)\u001b[49m\n\u001b[0;32m    431\u001b[0m     response[\u001b[38;5;124m'\u001b[39m\u001b[38;5;124mvalue\u001b[39m\u001b[38;5;124m'\u001b[39m] \u001b[38;5;241m=\u001b[39m \u001b[38;5;28mself\u001b[39m\u001b[38;5;241m.\u001b[39m_unwrap_value(\n\u001b[0;32m    432\u001b[0m         response\u001b[38;5;241m.\u001b[39mget(\u001b[38;5;124m'\u001b[39m\u001b[38;5;124mvalue\u001b[39m\u001b[38;5;124m'\u001b[39m, \u001b[38;5;28;01mNone\u001b[39;00m))\n\u001b[0;32m    433\u001b[0m     \u001b[38;5;28;01mreturn\u001b[39;00m response\n",
      "File \u001b[1;32mc:\\users\\14159\\appdata\\local\\programs\\python\\python39\\lib\\site-packages\\selenium\\webdriver\\remote\\errorhandler.py:247\u001b[0m, in \u001b[0;36mErrorHandler.check_response\u001b[1;34m(self, response)\u001b[0m\n\u001b[0;32m    245\u001b[0m         alert_text \u001b[38;5;241m=\u001b[39m value[\u001b[38;5;124m'\u001b[39m\u001b[38;5;124malert\u001b[39m\u001b[38;5;124m'\u001b[39m]\u001b[38;5;241m.\u001b[39mget(\u001b[38;5;124m'\u001b[39m\u001b[38;5;124mtext\u001b[39m\u001b[38;5;124m'\u001b[39m)\n\u001b[0;32m    246\u001b[0m     \u001b[38;5;28;01mraise\u001b[39;00m exception_class(message, screen, stacktrace, alert_text)  \u001b[38;5;66;03m# type: ignore[call-arg]  # mypy is not smart enough here\u001b[39;00m\n\u001b[1;32m--> 247\u001b[0m \u001b[38;5;28;01mraise\u001b[39;00m exception_class(message, screen, stacktrace)\n",
      "\u001b[1;31mNoSuchElementException\u001b[0m: Message: no such element: Unable to locate element: {\"method\":\"xpath\",\"selector\":\"//*[@id='pgl_basic_playoffs_sh']/div/ul/li[1]/div/ul/li[4]/button\"}\n  (Session info: chrome=103.0.5060.66)\nStacktrace:\nBacktrace:\n\tOrdinal0 [0x00C46463+2188387]\n\tOrdinal0 [0x00BDE461+1762401]\n\tOrdinal0 [0x00AF3D78+802168]\n\tOrdinal0 [0x00B21880+989312]\n\tOrdinal0 [0x00B21B1B+989979]\n\tOrdinal0 [0x00B4E912+1173778]\n\tOrdinal0 [0x00B3C824+1099812]\n\tOrdinal0 [0x00B4CC22+1166370]\n\tOrdinal0 [0x00B3C5F6+1099254]\n\tOrdinal0 [0x00B16BE0+945120]\n\tOrdinal0 [0x00B17AD6+948950]\n\tGetHandleVerifier [0x00EE71F2+2712546]\n\tGetHandleVerifier [0x00ED886D+2652765]\n\tGetHandleVerifier [0x00CD002A+520730]\n\tGetHandleVerifier [0x00CCEE06+516086]\n\tOrdinal0 [0x00BE468B+1787531]\n\tOrdinal0 [0x00BE8E88+1805960]\n\tOrdinal0 [0x00BE8F75+1806197]\n\tOrdinal0 [0x00BF1DF1+1842673]\n\tBaseThreadInitThunk [0x768F6739+25]\n\tRtlGetFullPathName_UEx [0x77948FEF+1215]\n\tRtlGetFullPathName_UEx [0x77948FBD+1165]\n"
     ]
    }
   ],
   "source": [
    "toCSV = driver.find_element(By.XPATH, \"//*[@id='pgl_basic_playoffs_sh']/div/ul/li[1]/div/ul/li[4]/button\")\n",
    "driver.execute_script(\"arguments[0].click()\", toCSV)"
   ]
  },
  {
   "cell_type": "code",
   "execution_count": null,
   "id": "03a51ec7",
   "metadata": {},
   "outputs": [],
   "source": [
    "csvText = driver.find_element(By.XPATH, \"//pre[@id='csv_pgl_basic_playoffs']\")\n",
    "print(csvText.text)"
   ]
  },
  {
   "cell_type": "code",
   "execution_count": null,
   "id": "84be523b",
   "metadata": {},
   "outputs": [],
   "source": [
    "for line in csvText.text.splitlines()[4:6]:\n",
    "    print(\"\\n\" + line)"
   ]
  },
  {
   "cell_type": "code",
   "execution_count": null,
   "id": "2326d186",
   "metadata": {},
   "outputs": [],
   "source": [
    "csvFile = open('Data/2020.csv', 'a+')\n",
    "for line in csvText.text.splitlines()[4:]:\n",
    "    print(line)\n",
    "    csvFile.write(line + \"\\n\")\n",
    "csvFile.close()    \n"
   ]
  },
  {
   "cell_type": "code",
   "execution_count": null,
   "id": "498894af",
   "metadata": {},
   "outputs": [],
   "source": [
    "# String to write csv file for a specific year\n",
    "def fileNameString(year):\n",
    "    \"\"\"Create a file path for the provided year. \n",
    "        Arguments:\n",
    "            year: String, like \"2020-21\"\n",
    "    \"\"\"\n",
    "    return \"Data/\" + year[0:2] + year[len(year) - 2 : len(year)] +\".csv\"\n",
    "print(fileNameString(\"2020-21\"))"
   ]
  },
  {
   "cell_type": "code",
   "execution_count": null,
   "id": "5c852be5",
   "metadata": {},
   "outputs": [],
   "source": [
    "def getData(yearLink, driver):\n",
    "    \"\"\"\n",
    "        For a list of year links from BBallRef, get player stats into\n",
    "        a csv file.\n",
    "        Arguments:\n",
    "            yearLink: a set of links for playoff years (<a> elements in HTML)\n",
    "            driver: web driver to click the links\n",
    "    \"\"\"\n",
    "    for link in yearLink:\n",
    "        driver.execute_script(\"arguments[0].click()\", link)\n",
    "        toCSV = driver.find_element(By.XPATH, \"//*[@id='pgl_basic_playoffs_sh']/div/ul/li[1]/div/ul/li[4]/button\")\n",
    "        driver.execute_script(\"arguments[0].click()\", toCSV)\n",
    "        csvText = driver.find_element(By.XPATH, \"//pre[@id='csv_pgl_basic_playoffs']\")\n",
    "        csvFileName = fileNameString(link.text)\n",
    "        csvFile = open(csvFileName, 'a+')\n",
    "        for line in csvText.text.splitlines()[4:]:\n",
    "            csvFile.write(line + \"\\n\")\n",
    "        csvFile.close()    "
   ]
  },
  {
   "cell_type": "code",
   "execution_count": null,
   "id": "9f8d610a",
   "metadata": {},
   "outputs": [],
   "source": [
    "getData(seasonLinks[0:2])"
   ]
  }
 ],
 "metadata": {
  "kernelspec": {
   "display_name": "Python 3 (ipykernel)",
   "language": "python",
   "name": "python3"
  },
  "language_info": {
   "codemirror_mode": {
    "name": "ipython",
    "version": 3
   },
   "file_extension": ".py",
   "mimetype": "text/x-python",
   "name": "python",
   "nbconvert_exporter": "python",
   "pygments_lexer": "ipython3",
   "version": "3.9.5"
  }
 },
 "nbformat": 4,
 "nbformat_minor": 5
}
